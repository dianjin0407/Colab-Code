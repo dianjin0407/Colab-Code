{
  "nbformat": 4,
  "nbformat_minor": 0,
  "metadata": {
    "kernelspec": {
      "display_name": "Python 3",
      "language": "python",
      "name": "python3"
    },
    "language_info": {
      "codemirror_mode": {
        "name": "ipython",
        "version": 3
      },
      "file_extension": ".py",
      "mimetype": "text/x-python",
      "name": "python",
      "nbconvert_exporter": "python",
      "pygments_lexer": "ipython3",
      "version": "3.7.2"
    },
    "colab": {
      "provenance": [],
      "include_colab_link": true
    }
  },
  "cells": [
    {
      "cell_type": "markdown",
      "metadata": {
        "id": "view-in-github",
        "colab_type": "text"
      },
      "source": [
        "<a href=\"https://colab.research.google.com/github/dianjin0407/Fall-2023-Coding/blob/main/Exercise_01_Pandas_and_Missing_Values.ipynb\" target=\"_parent\"><img src=\"https://colab.research.google.com/assets/colab-badge.svg\" alt=\"Open In Colab\"/></a>"
      ]
    },
    {
      "cell_type": "code",
      "metadata": {
        "id": "5OtGf_lRiX5v"
      },
      "source": [
        "# This cell is used to load the hints and solutions, if needed\n",
        "from IPython.display import Pretty as disp\n",
        "hint = 'https://raw.githubusercontent.com/soltaniehha/Business-Analytics/master/docs/hints/'  # path to hints on GitHub"
      ],
      "execution_count": 2,
      "outputs": []
    },
    {
      "cell_type": "markdown",
      "metadata": {
        "id": "--Kl6Bfs7i8L"
      },
      "source": [
        "# Exercise - Working with Pandas and Seaborn\n",
        "\n",
        "Now it's your turn to practice what we learned in the previous notebook.\n",
        "\n",
        "Import the real estate dataset from the following Github path: `data/2017_StPaul_MN_Real_Estate.csv`\n",
        "\n",
        "**Local Jupyter:** You can use the relative path `../data/2017_StPaul_MN_Real_Estate.csv` to import it.\n",
        "\n",
        "**Colab:** You will need to upload this file into your Colab container first. Upload `2017_StPaul_MN_Real_Estate.csv` file to the content folder of Colab.\n",
        "\n",
        "Call this DataFrame `houses`. Remember to import pandas first."
      ]
    },
    {
      "cell_type": "code",
      "metadata": {
        "id": "dIx2D8ua7i8O"
      },
      "source": [
        "# Your code goes here\n",
        "import pandas as pd\n",
        "houses = pd.read_csv(\"2017_StPaul_MN_Real_Estate.csv\")"
      ],
      "execution_count": 5,
      "outputs": []
    },
    {
      "cell_type": "code",
      "metadata": {
        "id": "p3kSb_tqibWA",
        "colab": {
          "base_uri": "https://localhost:8080/"
        },
        "outputId": "bf3ff6ed-7c34-44ee-b903-df3aa094a2fb"
      },
      "source": [
        "# SOLUTION: Uncomment and execute the cell below to get help\n",
        "disp(hint + '03-pandas-01')"
      ],
      "execution_count": 4,
      "outputs": [
        {
          "output_type": "execute_result",
          "data": {
            "text/plain": [
              "import pandas as pd\n",
              "houses = pd.read_csv(\"2017_StPaul_MN_Real_Estate.csv\")\n"
            ]
          },
          "metadata": {},
          "execution_count": 4
        }
      ]
    },
    {
      "cell_type": "markdown",
      "metadata": {
        "id": "BHglyTyM7i8R"
      },
      "source": [
        "How many rows and columns are there in this dataset?"
      ]
    },
    {
      "cell_type": "code",
      "metadata": {
        "id": "SwA3ORSD7i8S",
        "colab": {
          "base_uri": "https://localhost:8080/"
        },
        "outputId": "7b1b9366-ffee-4f9d-c0f9-8ca4b90cd39c"
      },
      "source": [
        "# Your code goes here\n",
        "houses.shape"
      ],
      "execution_count": 8,
      "outputs": [
        {
          "output_type": "execute_result",
          "data": {
            "text/plain": [
              "(5000, 74)"
            ]
          },
          "metadata": {},
          "execution_count": 8
        }
      ]
    },
    {
      "cell_type": "code",
      "metadata": {
        "id": "0iaLJQh7i26i",
        "colab": {
          "base_uri": "https://localhost:8080/"
        },
        "outputId": "c96a003a-28a5-4ad9-c9f2-3004ec98f217"
      },
      "source": [
        "# SOLUTION: Uncomment and execute the cell below to get help\n",
        "disp(hint + '03-pandas-02')"
      ],
      "execution_count": 7,
      "outputs": [
        {
          "output_type": "execute_result",
          "data": {
            "text/plain": [
              "houses.shape\n"
            ]
          },
          "metadata": {},
          "execution_count": 7
        }
      ]
    },
    {
      "cell_type": "markdown",
      "metadata": {
        "id": "FUOgBO4C7i8W"
      },
      "source": [
        "Use the `.format()` method on string to print a readable text based on this info. Here is an example:\n",
        "\n",
        "```python\n",
        "a = 10\n",
        "print(\"The value of a is {} hence a * 3 becomes {}.\".format(a, a*3))\n",
        "```\n",
        "> The value of a is 10 hence a * 3 becomes 30."
      ]
    },
    {
      "cell_type": "code",
      "metadata": {
        "id": "Eo5BrmoD7i8W",
        "colab": {
          "base_uri": "https://localhost:8080/"
        },
        "outputId": "fb835c6c-8193-47e9-e087-6ab410f7bb0f"
      },
      "source": [
        "# Your code goes here\n",
        "\n",
        "print('There are {} rows and {} columns.'.format(houses.shape[0],houses.shape[1]))"
      ],
      "execution_count": 12,
      "outputs": [
        {
          "output_type": "stream",
          "name": "stdout",
          "text": [
            "There are 5000 rows and 74 columns.\n"
          ]
        }
      ]
    },
    {
      "cell_type": "code",
      "metadata": {
        "id": "MKLRaTp7jEtj",
        "colab": {
          "base_uri": "https://localhost:8080/"
        },
        "outputId": "51902a86-5704-49f0-927e-b1a721391ff0"
      },
      "source": [
        "# SOLUTION: Uncomment and execute the cell below to get help\n",
        "disp(hint + '03-pandas-03')"
      ],
      "execution_count": 9,
      "outputs": [
        {
          "output_type": "execute_result",
          "data": {
            "text/plain": [
              "print(\"There are {} rows and {} columns.\".format(houses.shape[0], houses.shape[1]))\n"
            ]
          },
          "metadata": {},
          "execution_count": 9
        }
      ]
    },
    {
      "cell_type": "markdown",
      "metadata": {
        "id": "czRzKJCw7i8Z"
      },
      "source": [
        "This dataset has too many columns to study. To start, let's create a new dataset with a smaller number of attributes. To do this, use the following list, `subset_columns`:"
      ]
    },
    {
      "cell_type": "code",
      "metadata": {
        "id": "JDe5c4gR7i8a"
      },
      "source": [
        "subset_columns = ['streetaddress','STREETNAME', 'PostalCode', 'StateOrProvince', 'City', 'SchoolDistrictNumber',\n",
        "                  'SalesClosePrice', 'LISTDATE', 'offmarketdate', 'LISTPRICE', 'LISTTYPE',\n",
        "                  'OriginalListPrice', 'PricePerTSFT', 'DAYSONMARKET', 'ROOF',\n",
        "                  'SQFTABOVEGROUND', 'RoomArea1', 'YEARBUILT']"
      ],
      "execution_count": 13,
      "outputs": []
    },
    {
      "cell_type": "markdown",
      "metadata": {
        "id": "U05COR6c7i8c"
      },
      "source": [
        "Using the list above create a new DataFrame called `df` that includes the columns specified. One can subset the columns by simply passing a list of the columns to the DataFrame, e.g., `DF[['col1', 'col2']]`. Have in mind that ['col1', 'col2'] was defined in the previous cell, so you can just use it:"
      ]
    },
    {
      "cell_type": "code",
      "metadata": {
        "id": "8Y25b29h7i8d"
      },
      "source": [
        "# Your code goes here\n",
        "df=houses[subset_columns]"
      ],
      "execution_count": 15,
      "outputs": []
    },
    {
      "cell_type": "code",
      "metadata": {
        "id": "iyqH2rY4jKb6",
        "colab": {
          "base_uri": "https://localhost:8080/"
        },
        "outputId": "6f1cd9ff-436b-4748-9fc6-c38422d14b08"
      },
      "source": [
        "# SOLUTION: Uncomment and execute the cell below to get help\n",
        "disp(hint + '03-pandas-04')"
      ],
      "execution_count": 14,
      "outputs": [
        {
          "output_type": "execute_result",
          "data": {
            "text/plain": [
              "df = houses[subset_columns]\n"
            ]
          },
          "metadata": {},
          "execution_count": 14
        }
      ]
    },
    {
      "cell_type": "markdown",
      "metadata": {
        "id": "CEAoXLtg7i8g"
      },
      "source": [
        "Check the number of rows and columns on `df`:"
      ]
    },
    {
      "cell_type": "code",
      "metadata": {
        "id": "-KDuImH-7i8h",
        "colab": {
          "base_uri": "https://localhost:8080/"
        },
        "outputId": "46a2e130-dd97-45e1-9790-1dc01ce3a49d"
      },
      "source": [
        "# Your code goes here\n",
        "print('There are {} rows and {} columns.'.format(df.shape[0],df.shape[1]))"
      ],
      "execution_count": 20,
      "outputs": [
        {
          "output_type": "stream",
          "name": "stdout",
          "text": [
            "There are 5000 rows and 18 columns.\n"
          ]
        }
      ]
    },
    {
      "cell_type": "code",
      "metadata": {
        "id": "BOnI5-yHjPVd",
        "colab": {
          "base_uri": "https://localhost:8080/"
        },
        "outputId": "d803f9ea-ef97-4d47-80c0-d0b850f2bbad"
      },
      "source": [
        "# SOLUTION: Uncomment and execute the cell below to get help\n",
        "disp(hint + '03-pandas-05')"
      ],
      "execution_count": 18,
      "outputs": [
        {
          "output_type": "execute_result",
          "data": {
            "text/plain": [
              "print(\"There are {} rows and {} columns.\".format(df.shape[0], df.shape[1]))\n"
            ]
          },
          "metadata": {},
          "execution_count": 18
        }
      ]
    },
    {
      "cell_type": "markdown",
      "metadata": {
        "id": "f8IsqRAu7i8j"
      },
      "source": [
        "Let's have a look at the first few rows of `df`:"
      ]
    },
    {
      "cell_type": "code",
      "metadata": {
        "id": "vDNuQJGT7i8k",
        "colab": {
          "base_uri": "https://localhost:8080/",
          "height": 354
        },
        "outputId": "a457cae3-81be-4bf2-b46c-d7f9eec9df76"
      },
      "source": [
        "# Your code goes here\n",
        "df.head(3)"
      ],
      "execution_count": 23,
      "outputs": [
        {
          "output_type": "execute_result",
          "data": {
            "text/plain": [
              "             streetaddress  STREETNAME  PostalCode StateOrProvince  \\\n",
              "0  11511 Stillwater Blvd N  Stillwater       55042              MN   \n",
              "1          11200 31st St N        31st       55042              MN   \n",
              "2   8583 Stillwater Blvd N  Stillwater       55042              MN   \n",
              "\n",
              "               City           SchoolDistrictNumber  SalesClosePrice  \\\n",
              "0  LELM - Lake Elmo               834 - Stillwater           143000   \n",
              "1  LELM - Lake Elmo               834 - Stillwater           190000   \n",
              "2  LELM - Lake Elmo  622 - North St Paul-Maplewood           225000   \n",
              "\n",
              "         LISTDATE    offmarketdate  LISTPRICE         LISTTYPE  \\\n",
              "0  7/15/2017 0:00   7/30/2017 0:00     139900  Exclusive Right   \n",
              "1  10/9/2017 0:00  10/13/2017 0:00     210000  Exclusive Right   \n",
              "2  6/26/2017 0:00   7/24/2017 0:00     225000  Exclusive Right   \n",
              "\n",
              "   OriginalListPrice  PricePerTSFT  DAYSONMARKET  \\\n",
              "0             139900      145.9184            10   \n",
              "1             210000       85.2783             4   \n",
              "2             225000      204.1742            28   \n",
              "\n",
              "                                             ROOF  SQFTABOVEGROUND RoomArea1  \\\n",
              "0                                             NaN              980   16 x 13   \n",
              "1  Asphalt Shingles, Pitched, Age 8 Years or Less             1268     22x14   \n",
              "2                                             NaN             1102     20x13   \n",
              "\n",
              "   YEARBUILT  \n",
              "0       1950  \n",
              "1       1971  \n",
              "2       1949  "
            ],
            "text/html": [
              "\n",
              "  <div id=\"df-4e79b436-7b05-45a1-8af6-c5e06adf2ff5\" class=\"colab-df-container\">\n",
              "    <div>\n",
              "<style scoped>\n",
              "    .dataframe tbody tr th:only-of-type {\n",
              "        vertical-align: middle;\n",
              "    }\n",
              "\n",
              "    .dataframe tbody tr th {\n",
              "        vertical-align: top;\n",
              "    }\n",
              "\n",
              "    .dataframe thead th {\n",
              "        text-align: right;\n",
              "    }\n",
              "</style>\n",
              "<table border=\"1\" class=\"dataframe\">\n",
              "  <thead>\n",
              "    <tr style=\"text-align: right;\">\n",
              "      <th></th>\n",
              "      <th>streetaddress</th>\n",
              "      <th>STREETNAME</th>\n",
              "      <th>PostalCode</th>\n",
              "      <th>StateOrProvince</th>\n",
              "      <th>City</th>\n",
              "      <th>SchoolDistrictNumber</th>\n",
              "      <th>SalesClosePrice</th>\n",
              "      <th>LISTDATE</th>\n",
              "      <th>offmarketdate</th>\n",
              "      <th>LISTPRICE</th>\n",
              "      <th>LISTTYPE</th>\n",
              "      <th>OriginalListPrice</th>\n",
              "      <th>PricePerTSFT</th>\n",
              "      <th>DAYSONMARKET</th>\n",
              "      <th>ROOF</th>\n",
              "      <th>SQFTABOVEGROUND</th>\n",
              "      <th>RoomArea1</th>\n",
              "      <th>YEARBUILT</th>\n",
              "    </tr>\n",
              "  </thead>\n",
              "  <tbody>\n",
              "    <tr>\n",
              "      <th>0</th>\n",
              "      <td>11511 Stillwater Blvd N</td>\n",
              "      <td>Stillwater</td>\n",
              "      <td>55042</td>\n",
              "      <td>MN</td>\n",
              "      <td>LELM - Lake Elmo</td>\n",
              "      <td>834 - Stillwater</td>\n",
              "      <td>143000</td>\n",
              "      <td>7/15/2017 0:00</td>\n",
              "      <td>7/30/2017 0:00</td>\n",
              "      <td>139900</td>\n",
              "      <td>Exclusive Right</td>\n",
              "      <td>139900</td>\n",
              "      <td>145.9184</td>\n",
              "      <td>10</td>\n",
              "      <td>NaN</td>\n",
              "      <td>980</td>\n",
              "      <td>16 x 13</td>\n",
              "      <td>1950</td>\n",
              "    </tr>\n",
              "    <tr>\n",
              "      <th>1</th>\n",
              "      <td>11200 31st St N</td>\n",
              "      <td>31st</td>\n",
              "      <td>55042</td>\n",
              "      <td>MN</td>\n",
              "      <td>LELM - Lake Elmo</td>\n",
              "      <td>834 - Stillwater</td>\n",
              "      <td>190000</td>\n",
              "      <td>10/9/2017 0:00</td>\n",
              "      <td>10/13/2017 0:00</td>\n",
              "      <td>210000</td>\n",
              "      <td>Exclusive Right</td>\n",
              "      <td>210000</td>\n",
              "      <td>85.2783</td>\n",
              "      <td>4</td>\n",
              "      <td>Asphalt Shingles, Pitched, Age 8 Years or Less</td>\n",
              "      <td>1268</td>\n",
              "      <td>22x14</td>\n",
              "      <td>1971</td>\n",
              "    </tr>\n",
              "    <tr>\n",
              "      <th>2</th>\n",
              "      <td>8583 Stillwater Blvd N</td>\n",
              "      <td>Stillwater</td>\n",
              "      <td>55042</td>\n",
              "      <td>MN</td>\n",
              "      <td>LELM - Lake Elmo</td>\n",
              "      <td>622 - North St Paul-Maplewood</td>\n",
              "      <td>225000</td>\n",
              "      <td>6/26/2017 0:00</td>\n",
              "      <td>7/24/2017 0:00</td>\n",
              "      <td>225000</td>\n",
              "      <td>Exclusive Right</td>\n",
              "      <td>225000</td>\n",
              "      <td>204.1742</td>\n",
              "      <td>28</td>\n",
              "      <td>NaN</td>\n",
              "      <td>1102</td>\n",
              "      <td>20x13</td>\n",
              "      <td>1949</td>\n",
              "    </tr>\n",
              "  </tbody>\n",
              "</table>\n",
              "</div>\n",
              "    <div class=\"colab-df-buttons\">\n",
              "\n",
              "  <div class=\"colab-df-container\">\n",
              "    <button class=\"colab-df-convert\" onclick=\"convertToInteractive('df-4e79b436-7b05-45a1-8af6-c5e06adf2ff5')\"\n",
              "            title=\"Convert this dataframe to an interactive table.\"\n",
              "            style=\"display:none;\">\n",
              "\n",
              "  <svg xmlns=\"http://www.w3.org/2000/svg\" height=\"24px\" viewBox=\"0 -960 960 960\">\n",
              "    <path d=\"M120-120v-720h720v720H120Zm60-500h600v-160H180v160Zm220 220h160v-160H400v160Zm0 220h160v-160H400v160ZM180-400h160v-160H180v160Zm440 0h160v-160H620v160ZM180-180h160v-160H180v160Zm440 0h160v-160H620v160Z\"/>\n",
              "  </svg>\n",
              "    </button>\n",
              "\n",
              "  <style>\n",
              "    .colab-df-container {\n",
              "      display:flex;\n",
              "      gap: 12px;\n",
              "    }\n",
              "\n",
              "    .colab-df-convert {\n",
              "      background-color: #E8F0FE;\n",
              "      border: none;\n",
              "      border-radius: 50%;\n",
              "      cursor: pointer;\n",
              "      display: none;\n",
              "      fill: #1967D2;\n",
              "      height: 32px;\n",
              "      padding: 0 0 0 0;\n",
              "      width: 32px;\n",
              "    }\n",
              "\n",
              "    .colab-df-convert:hover {\n",
              "      background-color: #E2EBFA;\n",
              "      box-shadow: 0px 1px 2px rgba(60, 64, 67, 0.3), 0px 1px 3px 1px rgba(60, 64, 67, 0.15);\n",
              "      fill: #174EA6;\n",
              "    }\n",
              "\n",
              "    .colab-df-buttons div {\n",
              "      margin-bottom: 4px;\n",
              "    }\n",
              "\n",
              "    [theme=dark] .colab-df-convert {\n",
              "      background-color: #3B4455;\n",
              "      fill: #D2E3FC;\n",
              "    }\n",
              "\n",
              "    [theme=dark] .colab-df-convert:hover {\n",
              "      background-color: #434B5C;\n",
              "      box-shadow: 0px 1px 3px 1px rgba(0, 0, 0, 0.15);\n",
              "      filter: drop-shadow(0px 1px 2px rgba(0, 0, 0, 0.3));\n",
              "      fill: #FFFFFF;\n",
              "    }\n",
              "  </style>\n",
              "\n",
              "    <script>\n",
              "      const buttonEl =\n",
              "        document.querySelector('#df-4e79b436-7b05-45a1-8af6-c5e06adf2ff5 button.colab-df-convert');\n",
              "      buttonEl.style.display =\n",
              "        google.colab.kernel.accessAllowed ? 'block' : 'none';\n",
              "\n",
              "      async function convertToInteractive(key) {\n",
              "        const element = document.querySelector('#df-4e79b436-7b05-45a1-8af6-c5e06adf2ff5');\n",
              "        const dataTable =\n",
              "          await google.colab.kernel.invokeFunction('convertToInteractive',\n",
              "                                                    [key], {});\n",
              "        if (!dataTable) return;\n",
              "\n",
              "        const docLinkHtml = 'Like what you see? Visit the ' +\n",
              "          '<a target=\"_blank\" href=https://colab.research.google.com/notebooks/data_table.ipynb>data table notebook</a>'\n",
              "          + ' to learn more about interactive tables.';\n",
              "        element.innerHTML = '';\n",
              "        dataTable['output_type'] = 'display_data';\n",
              "        await google.colab.output.renderOutput(dataTable, element);\n",
              "        const docLink = document.createElement('div');\n",
              "        docLink.innerHTML = docLinkHtml;\n",
              "        element.appendChild(docLink);\n",
              "      }\n",
              "    </script>\n",
              "  </div>\n",
              "\n",
              "\n",
              "<div id=\"df-f48c6955-2e51-4b33-a7d7-2ef2a2b91c13\">\n",
              "  <button class=\"colab-df-quickchart\" onclick=\"quickchart('df-f48c6955-2e51-4b33-a7d7-2ef2a2b91c13')\"\n",
              "            title=\"Suggest charts.\"\n",
              "            style=\"display:none;\">\n",
              "\n",
              "<svg xmlns=\"http://www.w3.org/2000/svg\" height=\"24px\"viewBox=\"0 0 24 24\"\n",
              "     width=\"24px\">\n",
              "    <g>\n",
              "        <path d=\"M19 3H5c-1.1 0-2 .9-2 2v14c0 1.1.9 2 2 2h14c1.1 0 2-.9 2-2V5c0-1.1-.9-2-2-2zM9 17H7v-7h2v7zm4 0h-2V7h2v10zm4 0h-2v-4h2v4z\"/>\n",
              "    </g>\n",
              "</svg>\n",
              "  </button>\n",
              "\n",
              "<style>\n",
              "  .colab-df-quickchart {\n",
              "      --bg-color: #E8F0FE;\n",
              "      --fill-color: #1967D2;\n",
              "      --hover-bg-color: #E2EBFA;\n",
              "      --hover-fill-color: #174EA6;\n",
              "      --disabled-fill-color: #AAA;\n",
              "      --disabled-bg-color: #DDD;\n",
              "  }\n",
              "\n",
              "  [theme=dark] .colab-df-quickchart {\n",
              "      --bg-color: #3B4455;\n",
              "      --fill-color: #D2E3FC;\n",
              "      --hover-bg-color: #434B5C;\n",
              "      --hover-fill-color: #FFFFFF;\n",
              "      --disabled-bg-color: #3B4455;\n",
              "      --disabled-fill-color: #666;\n",
              "  }\n",
              "\n",
              "  .colab-df-quickchart {\n",
              "    background-color: var(--bg-color);\n",
              "    border: none;\n",
              "    border-radius: 50%;\n",
              "    cursor: pointer;\n",
              "    display: none;\n",
              "    fill: var(--fill-color);\n",
              "    height: 32px;\n",
              "    padding: 0;\n",
              "    width: 32px;\n",
              "  }\n",
              "\n",
              "  .colab-df-quickchart:hover {\n",
              "    background-color: var(--hover-bg-color);\n",
              "    box-shadow: 0 1px 2px rgba(60, 64, 67, 0.3), 0 1px 3px 1px rgba(60, 64, 67, 0.15);\n",
              "    fill: var(--button-hover-fill-color);\n",
              "  }\n",
              "\n",
              "  .colab-df-quickchart-complete:disabled,\n",
              "  .colab-df-quickchart-complete:disabled:hover {\n",
              "    background-color: var(--disabled-bg-color);\n",
              "    fill: var(--disabled-fill-color);\n",
              "    box-shadow: none;\n",
              "  }\n",
              "\n",
              "  .colab-df-spinner {\n",
              "    border: 2px solid var(--fill-color);\n",
              "    border-color: transparent;\n",
              "    border-bottom-color: var(--fill-color);\n",
              "    animation:\n",
              "      spin 1s steps(1) infinite;\n",
              "  }\n",
              "\n",
              "  @keyframes spin {\n",
              "    0% {\n",
              "      border-color: transparent;\n",
              "      border-bottom-color: var(--fill-color);\n",
              "      border-left-color: var(--fill-color);\n",
              "    }\n",
              "    20% {\n",
              "      border-color: transparent;\n",
              "      border-left-color: var(--fill-color);\n",
              "      border-top-color: var(--fill-color);\n",
              "    }\n",
              "    30% {\n",
              "      border-color: transparent;\n",
              "      border-left-color: var(--fill-color);\n",
              "      border-top-color: var(--fill-color);\n",
              "      border-right-color: var(--fill-color);\n",
              "    }\n",
              "    40% {\n",
              "      border-color: transparent;\n",
              "      border-right-color: var(--fill-color);\n",
              "      border-top-color: var(--fill-color);\n",
              "    }\n",
              "    60% {\n",
              "      border-color: transparent;\n",
              "      border-right-color: var(--fill-color);\n",
              "    }\n",
              "    80% {\n",
              "      border-color: transparent;\n",
              "      border-right-color: var(--fill-color);\n",
              "      border-bottom-color: var(--fill-color);\n",
              "    }\n",
              "    90% {\n",
              "      border-color: transparent;\n",
              "      border-bottom-color: var(--fill-color);\n",
              "    }\n",
              "  }\n",
              "</style>\n",
              "\n",
              "  <script>\n",
              "    async function quickchart(key) {\n",
              "      const quickchartButtonEl =\n",
              "        document.querySelector('#' + key + ' button');\n",
              "      quickchartButtonEl.disabled = true;  // To prevent multiple clicks.\n",
              "      quickchartButtonEl.classList.add('colab-df-spinner');\n",
              "      try {\n",
              "        const charts = await google.colab.kernel.invokeFunction(\n",
              "            'suggestCharts', [key], {});\n",
              "      } catch (error) {\n",
              "        console.error('Error during call to suggestCharts:', error);\n",
              "      }\n",
              "      quickchartButtonEl.classList.remove('colab-df-spinner');\n",
              "      quickchartButtonEl.classList.add('colab-df-quickchart-complete');\n",
              "    }\n",
              "    (() => {\n",
              "      let quickchartButtonEl =\n",
              "        document.querySelector('#df-f48c6955-2e51-4b33-a7d7-2ef2a2b91c13 button');\n",
              "      quickchartButtonEl.style.display =\n",
              "        google.colab.kernel.accessAllowed ? 'block' : 'none';\n",
              "    })();\n",
              "  </script>\n",
              "</div>\n",
              "    </div>\n",
              "  </div>\n"
            ]
          },
          "metadata": {},
          "execution_count": 23
        }
      ]
    },
    {
      "cell_type": "code",
      "metadata": {
        "id": "rmEFU_6Vjerp",
        "colab": {
          "base_uri": "https://localhost:8080/"
        },
        "outputId": "8d6d5718-35e0-4b1f-b66d-9ea822069bf4"
      },
      "source": [
        "# SOLUTION: Uncomment and execute the cell below to get help\n",
        "disp(hint + '03-pandas-06')"
      ],
      "execution_count": 22,
      "outputs": [
        {
          "output_type": "execute_result",
          "data": {
            "text/plain": [
              "df.head(3)\n"
            ]
          },
          "metadata": {},
          "execution_count": 22
        }
      ]
    },
    {
      "cell_type": "markdown",
      "metadata": {
        "id": "v6tOd9L37i8m"
      },
      "source": [
        "Use `describe()` to get a high level summary of the data:"
      ]
    },
    {
      "cell_type": "code",
      "metadata": {
        "id": "oTX0e2m_7i8n",
        "colab": {
          "base_uri": "https://localhost:8080/",
          "height": 300
        },
        "outputId": "217167ee-2d6f-4583-9f7c-c31c1c31dad8"
      },
      "source": [
        "# Your code goes here\n",
        "df.describe()"
      ],
      "execution_count": 24,
      "outputs": [
        {
          "output_type": "execute_result",
          "data": {
            "text/plain": [
              "         PostalCode  SalesClosePrice     LISTPRICE  OriginalListPrice  \\\n",
              "count   5000.000000     5.000000e+03  5.000000e+03       5.000000e+03   \n",
              "mean   55113.216600     2.628045e+05  2.634194e+05       2.750026e+05   \n",
              "std       16.040821     1.405598e+05  1.439441e+05       4.096207e+05   \n",
              "min    55042.000000     4.800000e+04  4.000000e+04       5.000000e+00   \n",
              "25%    55105.000000     1.746500e+05  1.720000e+05       1.749000e+05   \n",
              "50%    55116.000000     2.250000e+05  2.249000e+05       2.250000e+05   \n",
              "75%    55125.000000     3.150000e+05  3.150000e+05       3.200000e+05   \n",
              "max    55130.000000     1.700000e+06  1.850000e+06       2.199000e+07   \n",
              "\n",
              "        PricePerTSFT  DAYSONMARKET  SQFTABOVEGROUND   YEARBUILT  \n",
              "count    5000.000000   5000.000000      5000.000000  5000.00000  \n",
              "mean      199.869863     28.358400      1489.013000  1958.99960  \n",
              "std      3887.265428     28.708702       626.486803    38.84975  \n",
              "min        29.556700      0.000000         1.000000  1850.00000  \n",
              "25%       117.774375      9.000000      1074.000000  1923.00000  \n",
              "50%       135.728700     19.000000      1320.000000  1959.00000  \n",
              "75%       164.092350     38.000000      1733.000000  1995.00000  \n",
              "max    275000.000000    225.000000      7200.000000  2018.00000  "
            ],
            "text/html": [
              "\n",
              "  <div id=\"df-693bc2fb-58ff-47df-808c-b79012a103f2\" class=\"colab-df-container\">\n",
              "    <div>\n",
              "<style scoped>\n",
              "    .dataframe tbody tr th:only-of-type {\n",
              "        vertical-align: middle;\n",
              "    }\n",
              "\n",
              "    .dataframe tbody tr th {\n",
              "        vertical-align: top;\n",
              "    }\n",
              "\n",
              "    .dataframe thead th {\n",
              "        text-align: right;\n",
              "    }\n",
              "</style>\n",
              "<table border=\"1\" class=\"dataframe\">\n",
              "  <thead>\n",
              "    <tr style=\"text-align: right;\">\n",
              "      <th></th>\n",
              "      <th>PostalCode</th>\n",
              "      <th>SalesClosePrice</th>\n",
              "      <th>LISTPRICE</th>\n",
              "      <th>OriginalListPrice</th>\n",
              "      <th>PricePerTSFT</th>\n",
              "      <th>DAYSONMARKET</th>\n",
              "      <th>SQFTABOVEGROUND</th>\n",
              "      <th>YEARBUILT</th>\n",
              "    </tr>\n",
              "  </thead>\n",
              "  <tbody>\n",
              "    <tr>\n",
              "      <th>count</th>\n",
              "      <td>5000.000000</td>\n",
              "      <td>5.000000e+03</td>\n",
              "      <td>5.000000e+03</td>\n",
              "      <td>5.000000e+03</td>\n",
              "      <td>5000.000000</td>\n",
              "      <td>5000.000000</td>\n",
              "      <td>5000.000000</td>\n",
              "      <td>5000.00000</td>\n",
              "    </tr>\n",
              "    <tr>\n",
              "      <th>mean</th>\n",
              "      <td>55113.216600</td>\n",
              "      <td>2.628045e+05</td>\n",
              "      <td>2.634194e+05</td>\n",
              "      <td>2.750026e+05</td>\n",
              "      <td>199.869863</td>\n",
              "      <td>28.358400</td>\n",
              "      <td>1489.013000</td>\n",
              "      <td>1958.99960</td>\n",
              "    </tr>\n",
              "    <tr>\n",
              "      <th>std</th>\n",
              "      <td>16.040821</td>\n",
              "      <td>1.405598e+05</td>\n",
              "      <td>1.439441e+05</td>\n",
              "      <td>4.096207e+05</td>\n",
              "      <td>3887.265428</td>\n",
              "      <td>28.708702</td>\n",
              "      <td>626.486803</td>\n",
              "      <td>38.84975</td>\n",
              "    </tr>\n",
              "    <tr>\n",
              "      <th>min</th>\n",
              "      <td>55042.000000</td>\n",
              "      <td>4.800000e+04</td>\n",
              "      <td>4.000000e+04</td>\n",
              "      <td>5.000000e+00</td>\n",
              "      <td>29.556700</td>\n",
              "      <td>0.000000</td>\n",
              "      <td>1.000000</td>\n",
              "      <td>1850.00000</td>\n",
              "    </tr>\n",
              "    <tr>\n",
              "      <th>25%</th>\n",
              "      <td>55105.000000</td>\n",
              "      <td>1.746500e+05</td>\n",
              "      <td>1.720000e+05</td>\n",
              "      <td>1.749000e+05</td>\n",
              "      <td>117.774375</td>\n",
              "      <td>9.000000</td>\n",
              "      <td>1074.000000</td>\n",
              "      <td>1923.00000</td>\n",
              "    </tr>\n",
              "    <tr>\n",
              "      <th>50%</th>\n",
              "      <td>55116.000000</td>\n",
              "      <td>2.250000e+05</td>\n",
              "      <td>2.249000e+05</td>\n",
              "      <td>2.250000e+05</td>\n",
              "      <td>135.728700</td>\n",
              "      <td>19.000000</td>\n",
              "      <td>1320.000000</td>\n",
              "      <td>1959.00000</td>\n",
              "    </tr>\n",
              "    <tr>\n",
              "      <th>75%</th>\n",
              "      <td>55125.000000</td>\n",
              "      <td>3.150000e+05</td>\n",
              "      <td>3.150000e+05</td>\n",
              "      <td>3.200000e+05</td>\n",
              "      <td>164.092350</td>\n",
              "      <td>38.000000</td>\n",
              "      <td>1733.000000</td>\n",
              "      <td>1995.00000</td>\n",
              "    </tr>\n",
              "    <tr>\n",
              "      <th>max</th>\n",
              "      <td>55130.000000</td>\n",
              "      <td>1.700000e+06</td>\n",
              "      <td>1.850000e+06</td>\n",
              "      <td>2.199000e+07</td>\n",
              "      <td>275000.000000</td>\n",
              "      <td>225.000000</td>\n",
              "      <td>7200.000000</td>\n",
              "      <td>2018.00000</td>\n",
              "    </tr>\n",
              "  </tbody>\n",
              "</table>\n",
              "</div>\n",
              "    <div class=\"colab-df-buttons\">\n",
              "\n",
              "  <div class=\"colab-df-container\">\n",
              "    <button class=\"colab-df-convert\" onclick=\"convertToInteractive('df-693bc2fb-58ff-47df-808c-b79012a103f2')\"\n",
              "            title=\"Convert this dataframe to an interactive table.\"\n",
              "            style=\"display:none;\">\n",
              "\n",
              "  <svg xmlns=\"http://www.w3.org/2000/svg\" height=\"24px\" viewBox=\"0 -960 960 960\">\n",
              "    <path d=\"M120-120v-720h720v720H120Zm60-500h600v-160H180v160Zm220 220h160v-160H400v160Zm0 220h160v-160H400v160ZM180-400h160v-160H180v160Zm440 0h160v-160H620v160ZM180-180h160v-160H180v160Zm440 0h160v-160H620v160Z\"/>\n",
              "  </svg>\n",
              "    </button>\n",
              "\n",
              "  <style>\n",
              "    .colab-df-container {\n",
              "      display:flex;\n",
              "      gap: 12px;\n",
              "    }\n",
              "\n",
              "    .colab-df-convert {\n",
              "      background-color: #E8F0FE;\n",
              "      border: none;\n",
              "      border-radius: 50%;\n",
              "      cursor: pointer;\n",
              "      display: none;\n",
              "      fill: #1967D2;\n",
              "      height: 32px;\n",
              "      padding: 0 0 0 0;\n",
              "      width: 32px;\n",
              "    }\n",
              "\n",
              "    .colab-df-convert:hover {\n",
              "      background-color: #E2EBFA;\n",
              "      box-shadow: 0px 1px 2px rgba(60, 64, 67, 0.3), 0px 1px 3px 1px rgba(60, 64, 67, 0.15);\n",
              "      fill: #174EA6;\n",
              "    }\n",
              "\n",
              "    .colab-df-buttons div {\n",
              "      margin-bottom: 4px;\n",
              "    }\n",
              "\n",
              "    [theme=dark] .colab-df-convert {\n",
              "      background-color: #3B4455;\n",
              "      fill: #D2E3FC;\n",
              "    }\n",
              "\n",
              "    [theme=dark] .colab-df-convert:hover {\n",
              "      background-color: #434B5C;\n",
              "      box-shadow: 0px 1px 3px 1px rgba(0, 0, 0, 0.15);\n",
              "      filter: drop-shadow(0px 1px 2px rgba(0, 0, 0, 0.3));\n",
              "      fill: #FFFFFF;\n",
              "    }\n",
              "  </style>\n",
              "\n",
              "    <script>\n",
              "      const buttonEl =\n",
              "        document.querySelector('#df-693bc2fb-58ff-47df-808c-b79012a103f2 button.colab-df-convert');\n",
              "      buttonEl.style.display =\n",
              "        google.colab.kernel.accessAllowed ? 'block' : 'none';\n",
              "\n",
              "      async function convertToInteractive(key) {\n",
              "        const element = document.querySelector('#df-693bc2fb-58ff-47df-808c-b79012a103f2');\n",
              "        const dataTable =\n",
              "          await google.colab.kernel.invokeFunction('convertToInteractive',\n",
              "                                                    [key], {});\n",
              "        if (!dataTable) return;\n",
              "\n",
              "        const docLinkHtml = 'Like what you see? Visit the ' +\n",
              "          '<a target=\"_blank\" href=https://colab.research.google.com/notebooks/data_table.ipynb>data table notebook</a>'\n",
              "          + ' to learn more about interactive tables.';\n",
              "        element.innerHTML = '';\n",
              "        dataTable['output_type'] = 'display_data';\n",
              "        await google.colab.output.renderOutput(dataTable, element);\n",
              "        const docLink = document.createElement('div');\n",
              "        docLink.innerHTML = docLinkHtml;\n",
              "        element.appendChild(docLink);\n",
              "      }\n",
              "    </script>\n",
              "  </div>\n",
              "\n",
              "\n",
              "<div id=\"df-3215b583-6ff2-416a-a513-4eec1b8d003f\">\n",
              "  <button class=\"colab-df-quickchart\" onclick=\"quickchart('df-3215b583-6ff2-416a-a513-4eec1b8d003f')\"\n",
              "            title=\"Suggest charts.\"\n",
              "            style=\"display:none;\">\n",
              "\n",
              "<svg xmlns=\"http://www.w3.org/2000/svg\" height=\"24px\"viewBox=\"0 0 24 24\"\n",
              "     width=\"24px\">\n",
              "    <g>\n",
              "        <path d=\"M19 3H5c-1.1 0-2 .9-2 2v14c0 1.1.9 2 2 2h14c1.1 0 2-.9 2-2V5c0-1.1-.9-2-2-2zM9 17H7v-7h2v7zm4 0h-2V7h2v10zm4 0h-2v-4h2v4z\"/>\n",
              "    </g>\n",
              "</svg>\n",
              "  </button>\n",
              "\n",
              "<style>\n",
              "  .colab-df-quickchart {\n",
              "      --bg-color: #E8F0FE;\n",
              "      --fill-color: #1967D2;\n",
              "      --hover-bg-color: #E2EBFA;\n",
              "      --hover-fill-color: #174EA6;\n",
              "      --disabled-fill-color: #AAA;\n",
              "      --disabled-bg-color: #DDD;\n",
              "  }\n",
              "\n",
              "  [theme=dark] .colab-df-quickchart {\n",
              "      --bg-color: #3B4455;\n",
              "      --fill-color: #D2E3FC;\n",
              "      --hover-bg-color: #434B5C;\n",
              "      --hover-fill-color: #FFFFFF;\n",
              "      --disabled-bg-color: #3B4455;\n",
              "      --disabled-fill-color: #666;\n",
              "  }\n",
              "\n",
              "  .colab-df-quickchart {\n",
              "    background-color: var(--bg-color);\n",
              "    border: none;\n",
              "    border-radius: 50%;\n",
              "    cursor: pointer;\n",
              "    display: none;\n",
              "    fill: var(--fill-color);\n",
              "    height: 32px;\n",
              "    padding: 0;\n",
              "    width: 32px;\n",
              "  }\n",
              "\n",
              "  .colab-df-quickchart:hover {\n",
              "    background-color: var(--hover-bg-color);\n",
              "    box-shadow: 0 1px 2px rgba(60, 64, 67, 0.3), 0 1px 3px 1px rgba(60, 64, 67, 0.15);\n",
              "    fill: var(--button-hover-fill-color);\n",
              "  }\n",
              "\n",
              "  .colab-df-quickchart-complete:disabled,\n",
              "  .colab-df-quickchart-complete:disabled:hover {\n",
              "    background-color: var(--disabled-bg-color);\n",
              "    fill: var(--disabled-fill-color);\n",
              "    box-shadow: none;\n",
              "  }\n",
              "\n",
              "  .colab-df-spinner {\n",
              "    border: 2px solid var(--fill-color);\n",
              "    border-color: transparent;\n",
              "    border-bottom-color: var(--fill-color);\n",
              "    animation:\n",
              "      spin 1s steps(1) infinite;\n",
              "  }\n",
              "\n",
              "  @keyframes spin {\n",
              "    0% {\n",
              "      border-color: transparent;\n",
              "      border-bottom-color: var(--fill-color);\n",
              "      border-left-color: var(--fill-color);\n",
              "    }\n",
              "    20% {\n",
              "      border-color: transparent;\n",
              "      border-left-color: var(--fill-color);\n",
              "      border-top-color: var(--fill-color);\n",
              "    }\n",
              "    30% {\n",
              "      border-color: transparent;\n",
              "      border-left-color: var(--fill-color);\n",
              "      border-top-color: var(--fill-color);\n",
              "      border-right-color: var(--fill-color);\n",
              "    }\n",
              "    40% {\n",
              "      border-color: transparent;\n",
              "      border-right-color: var(--fill-color);\n",
              "      border-top-color: var(--fill-color);\n",
              "    }\n",
              "    60% {\n",
              "      border-color: transparent;\n",
              "      border-right-color: var(--fill-color);\n",
              "    }\n",
              "    80% {\n",
              "      border-color: transparent;\n",
              "      border-right-color: var(--fill-color);\n",
              "      border-bottom-color: var(--fill-color);\n",
              "    }\n",
              "    90% {\n",
              "      border-color: transparent;\n",
              "      border-bottom-color: var(--fill-color);\n",
              "    }\n",
              "  }\n",
              "</style>\n",
              "\n",
              "  <script>\n",
              "    async function quickchart(key) {\n",
              "      const quickchartButtonEl =\n",
              "        document.querySelector('#' + key + ' button');\n",
              "      quickchartButtonEl.disabled = true;  // To prevent multiple clicks.\n",
              "      quickchartButtonEl.classList.add('colab-df-spinner');\n",
              "      try {\n",
              "        const charts = await google.colab.kernel.invokeFunction(\n",
              "            'suggestCharts', [key], {});\n",
              "      } catch (error) {\n",
              "        console.error('Error during call to suggestCharts:', error);\n",
              "      }\n",
              "      quickchartButtonEl.classList.remove('colab-df-spinner');\n",
              "      quickchartButtonEl.classList.add('colab-df-quickchart-complete');\n",
              "    }\n",
              "    (() => {\n",
              "      let quickchartButtonEl =\n",
              "        document.querySelector('#df-3215b583-6ff2-416a-a513-4eec1b8d003f button');\n",
              "      quickchartButtonEl.style.display =\n",
              "        google.colab.kernel.accessAllowed ? 'block' : 'none';\n",
              "    })();\n",
              "  </script>\n",
              "</div>\n",
              "    </div>\n",
              "  </div>\n"
            ]
          },
          "metadata": {},
          "execution_count": 24
        }
      ]
    },
    {
      "cell_type": "code",
      "metadata": {
        "id": "Ox0szYiijh_7",
        "colab": {
          "base_uri": "https://localhost:8080/"
        },
        "outputId": "e4ac730f-db1a-408f-ddda-51ead458cbf5"
      },
      "source": [
        "# SOLUTION: Uncomment and execute the cell below to get help\n",
        "disp(hint + '03-pandas-07')"
      ],
      "execution_count": 25,
      "outputs": [
        {
          "output_type": "execute_result",
          "data": {
            "text/plain": [
              "df.describe()\n"
            ]
          },
          "metadata": {},
          "execution_count": 25
        }
      ]
    },
    {
      "cell_type": "markdown",
      "metadata": {
        "id": "fjd_0zUZ7i8r"
      },
      "source": [
        "Using `.info()` extract more info regarding the missing values and columns types:"
      ]
    },
    {
      "cell_type": "code",
      "metadata": {
        "id": "lLLyPOXX7i8s",
        "colab": {
          "base_uri": "https://localhost:8080/"
        },
        "outputId": "c52f56ef-ae75-4004-e1ee-80662d49d861"
      },
      "source": [
        "# Your code goes here\n",
        "df.info()"
      ],
      "execution_count": 26,
      "outputs": [
        {
          "output_type": "stream",
          "name": "stdout",
          "text": [
            "<class 'pandas.core.frame.DataFrame'>\n",
            "RangeIndex: 5000 entries, 0 to 4999\n",
            "Data columns (total 18 columns):\n",
            " #   Column                Non-Null Count  Dtype  \n",
            "---  ------                --------------  -----  \n",
            " 0   streetaddress         5000 non-null   object \n",
            " 1   STREETNAME            5000 non-null   object \n",
            " 2   PostalCode            5000 non-null   int64  \n",
            " 3   StateOrProvince       5000 non-null   object \n",
            " 4   City                  5000 non-null   object \n",
            " 5   SchoolDistrictNumber  5000 non-null   object \n",
            " 6   SalesClosePrice       5000 non-null   int64  \n",
            " 7   LISTDATE              5000 non-null   object \n",
            " 8   offmarketdate         5000 non-null   object \n",
            " 9   LISTPRICE             5000 non-null   int64  \n",
            " 10  LISTTYPE              5000 non-null   object \n",
            " 11  OriginalListPrice     5000 non-null   int64  \n",
            " 12  PricePerTSFT          5000 non-null   float64\n",
            " 13  DAYSONMARKET          5000 non-null   int64  \n",
            " 14  ROOF                  4235 non-null   object \n",
            " 15  SQFTABOVEGROUND       5000 non-null   int64  \n",
            " 16  RoomArea1             4543 non-null   object \n",
            " 17  YEARBUILT             5000 non-null   int64  \n",
            "dtypes: float64(1), int64(7), object(10)\n",
            "memory usage: 703.2+ KB\n"
          ]
        }
      ]
    },
    {
      "cell_type": "code",
      "metadata": {
        "id": "ZBcHRSNmjnrh",
        "colab": {
          "base_uri": "https://localhost:8080/"
        },
        "outputId": "f21aca46-55db-4b18-8df1-0fab7c876a30"
      },
      "source": [
        "# SOLUTION: Uncomment and execute the cell below to get help\n",
        "disp(hint + '03-pandas-08')"
      ],
      "execution_count": 27,
      "outputs": [
        {
          "output_type": "execute_result",
          "data": {
            "text/plain": [
              "df.info()\n"
            ]
          },
          "metadata": {},
          "execution_count": 27
        }
      ]
    },
    {
      "cell_type": "markdown",
      "metadata": {
        "id": "p9AXWr6Z7i8u"
      },
      "source": [
        "### How often are houses being sold above the listing price?\n",
        "\n",
        "To answer this question let's first visually inspect the relationship of `LISTPRICE` vs. `SalesClosePrice`. Here is a step by step guide to do that:\n",
        "\n",
        "First we want to tell `matplotlib` that we are running our code in a notebook mode:\n",
        "```python\n",
        "%matplotlib inline\n",
        "```"
      ]
    },
    {
      "cell_type": "code",
      "metadata": {
        "id": "jOZ3TldM7i8v"
      },
      "source": [
        "# Your code goes here\n",
        "%matplotlib inline"
      ],
      "execution_count": 30,
      "outputs": []
    },
    {
      "cell_type": "code",
      "metadata": {
        "id": "mPKQuWfcjuef",
        "colab": {
          "base_uri": "https://localhost:8080/"
        },
        "outputId": "ad88473f-6685-4b31-d7f1-046fe16a3ad2"
      },
      "source": [
        "# SOLUTION: Uncomment and execute the cell below to get help\n",
        "disp(hint + '03-pandas-09')"
      ],
      "execution_count": 28,
      "outputs": [
        {
          "output_type": "execute_result",
          "data": {
            "text/plain": [
              "%matplotlib inline\n"
            ]
          },
          "metadata": {},
          "execution_count": 28
        }
      ]
    },
    {
      "cell_type": "markdown",
      "metadata": {
        "id": "qiDsXMT37i8y"
      },
      "source": [
        "Then import seaborn and use the alias `sns`:"
      ]
    },
    {
      "cell_type": "code",
      "metadata": {
        "id": "8kjc0LDM7i8z"
      },
      "source": [
        "# Your code goes here\n",
        "import seaborn as sns"
      ],
      "execution_count": 31,
      "outputs": []
    },
    {
      "cell_type": "code",
      "metadata": {
        "id": "2_il7mUkj1Hl",
        "colab": {
          "base_uri": "https://localhost:8080/"
        },
        "outputId": "7b0ec190-b540-4011-9d7e-b62a5dc9384c"
      },
      "source": [
        "# SOLUTION: Uncomment and execute the cell below to get help\n",
        "disp(hint + '03-pandas-10')"
      ],
      "execution_count": 32,
      "outputs": [
        {
          "output_type": "execute_result",
          "data": {
            "text/plain": [
              "import seaborn as sns\n"
            ]
          },
          "metadata": {},
          "execution_count": 32
        }
      ]
    },
    {
      "cell_type": "markdown",
      "metadata": {
        "id": "OeLl23fd7i81"
      },
      "source": [
        "Use seaborn's `lmplot()` function to make a scatterplot with a linear model on top. All you need to provide is `x`, `y`, and `data` arguments. If you are facing issues check out the help function `sns.lmplot?`."
      ]
    },
    {
      "cell_type": "code",
      "metadata": {
        "id": "DK2twJ0d7i82",
        "colab": {
          "base_uri": "https://localhost:8080/",
          "height": 524
        },
        "outputId": "6311d707-3fbd-442c-8a02-40b7432e3e9c"
      },
      "source": [
        "# Your code goes here\n",
        "sns.lmplot(data=df,x='LISTPRICE',y='SalesClosePrice')"
      ],
      "execution_count": 38,
      "outputs": [
        {
          "output_type": "execute_result",
          "data": {
            "text/plain": [
              "<seaborn.axisgrid.FacetGrid at 0x7bfaf3b23340>"
            ]
          },
          "metadata": {},
          "execution_count": 38
        },
        {
          "output_type": "display_data",
          "data": {
            "text/plain": [
              "<Figure size 500x500 with 1 Axes>"
            ],
            "image/png": "[encoded data removed]"
          },
          "metadata": {}
        }
      ]
    },
    {
      "cell_type": "code",
      "metadata": {
        "id": "f9w9LQXrnBQo",
        "colab": {
          "base_uri": "https://localhost:8080/"
        },
        "outputId": "e5baa54b-3b12-4b7f-f16c-710b5af2249a"
      },
      "source": [
        "# SOLUTION: Uncomment and execute the cell below to get help\n",
        "disp(hint + '03-pandas-11')"
      ],
      "execution_count": 37,
      "outputs": [
        {
          "output_type": "execute_result",
          "data": {
            "text/plain": [
              "sns.lmplot(x=\"LISTPRICE\", y=\"SalesClosePrice\", data=df)\n"
            ]
          },
          "metadata": {},
          "execution_count": 37
        }
      ]
    },
    {
      "cell_type": "markdown",
      "metadata": {
        "id": "hal9t-eF7i85"
      },
      "source": [
        "From the plot it is evident that there is a linear relationship between the two variables as the list price is often times set with professionals. We have two many data points and it is hard to draw a conclusion from this chart. Let's take a different path: we will find the percentage difference between these two variables and plot its histogram. It should give us a better understanding of the relationship.\n",
        "\n",
        "We can start with calculating this percentage difference, something like this:\n",
        "```python\n",
        "(df['SalesClosePrice'] - df['LISTPRICE'])/df['LISTPRICE'] * 100\n",
        "```\n",
        "\n",
        "Let's assign the result to a variable called `sales_vs_list`:"
      ]
    },
    {
      "cell_type": "code",
      "metadata": {
        "id": "2Mi1TaMC7i86"
      },
      "source": [
        "# Your code goes here\n",
        "sales_vs_list=(df['SalesClosePrice'] - df['LISTPRICE'])/df['LISTPRICE'] * 100"
      ],
      "execution_count": 39,
      "outputs": []
    },
    {
      "cell_type": "code",
      "metadata": {
        "id": "IilCoUJBnG9r",
        "colab": {
          "base_uri": "https://localhost:8080/"
        },
        "outputId": "fde40cbe-257c-485d-cc28-99d46b2c0a47"
      },
      "source": [
        "# SOLUTION: Uncomment and execute the cell below to get help\n",
        "disp(hint + '03-pandas-12')"
      ],
      "execution_count": 40,
      "outputs": [
        {
          "output_type": "execute_result",
          "data": {
            "text/plain": [
              "sales_vs_list = (df['SalesClosePrice'] - df['LISTPRICE'])/df['LISTPRICE'] * 100\n"
            ]
          },
          "metadata": {},
          "execution_count": 40
        }
      ]
    },
    {
      "cell_type": "code",
      "metadata": {
        "id": "ortglL8o7i88",
        "colab": {
          "base_uri": "https://localhost:8080/"
        },
        "outputId": "30976059-f6b4-4440-8d29-2b959ce542d1"
      },
      "source": [
        "type(sales_vs_list)"
      ],
      "execution_count": 41,
      "outputs": [
        {
          "output_type": "execute_result",
          "data": {
            "text/plain": [
              "pandas.core.series.Series"
            ]
          },
          "metadata": {},
          "execution_count": 41
        }
      ]
    },
    {
      "cell_type": "markdown",
      "metadata": {
        "id": "3ZLen30A7i8-"
      },
      "source": [
        "From the type of this object it is clear that this resulted in a pandas Series object. [Series](https://pandas.pydata.org/pandas-docs/stable/reference/api/pandas.Series.html#pandas.Series) are one-dimensional ndarray with axis labels. Series is the datastructure for a single column of a DataFrame, not only conceptually, but literally, i.e. the data in a DataFrame is actually stored in memory as a collection of Series.\n",
        "\n",
        "Now that we have our `sales_vs_list` ready let's try to answer our question.\n",
        "\n",
        "First, use the `describe()` method on `sales_vs_list` to get the statistics summary (similar to DataFrame):"
      ]
    },
    {
      "cell_type": "code",
      "metadata": {
        "id": "3IMtOnoi7i8-",
        "colab": {
          "base_uri": "https://localhost:8080/"
        },
        "outputId": "a0fc6761-c386-4104-90e1-681375bac3a8"
      },
      "source": [
        "# Your code goes here\n",
        "sales_vs_list.describe()"
      ],
      "execution_count": 42,
      "outputs": [
        {
          "output_type": "execute_result",
          "data": {
            "text/plain": [
              "count    5000.000000\n",
              "mean        0.091693\n",
              "std         4.514791\n",
              "min       -32.584270\n",
              "25%        -1.937002\n",
              "50%         0.000000\n",
              "75%         2.000000\n",
              "max       100.000000\n",
              "dtype: float64"
            ]
          },
          "metadata": {},
          "execution_count": 42
        }
      ]
    },
    {
      "cell_type": "code",
      "metadata": {
        "id": "M26mqWB-nOWb",
        "colab": {
          "base_uri": "https://localhost:8080/"
        },
        "outputId": "c2072fc1-5f1f-44e2-aa04-a1ac63156fd6"
      },
      "source": [
        "# SOLUTION: Uncomment and execute the cell below to get help\n",
        "disp(hint + '03-pandas-13')"
      ],
      "execution_count": 43,
      "outputs": [
        {
          "output_type": "execute_result",
          "data": {
            "text/plain": [
              "sales_vs_list.describe()\n"
            ]
          },
          "metadata": {},
          "execution_count": 43
        }
      ]
    },
    {
      "cell_type": "markdown",
      "metadata": {
        "id": "3UeKkpQK7i9B"
      },
      "source": [
        "A positive `sales_vs_list` value means that the house was sold above the list price and a negative means the opposite. With a 0 median it looks like as many houses were sold above the list price as below. But let's look at the histogram to get a better picture.\n",
        "\n",
        "Use seaborn's `distplot()` to plot a histogram. All you need to do is to pass our variable to it (remember this function is coming from seaborn so you will need to use `.` to access it from seaborn:"
      ]
    },
    {
      "cell_type": "code",
      "metadata": {
        "id": "r5ac7k1Z7i9C",
        "colab": {
          "base_uri": "https://localhost:8080/",
          "height": 626
        },
        "outputId": "3bf52aaf-848a-405c-ed73-b7b9870b2bfa"
      },
      "source": [
        "# Your code goes here\n",
        "sns.set_style(\"ticks\")\n",
        "sns.distplot(sales_vs_list)\n",
        "sns.despine()"
      ],
      "execution_count": 48,
      "outputs": [
        {
          "output_type": "stream",
          "name": "stderr",
          "text": [
            "<ipython-input-48-559bb980c28b>:3: UserWarning: \n",
            "\n",
            "`distplot` is a deprecated function and will be removed in seaborn v0.14.0.\n",
            "\n",
            "Please adapt your code to use either `displot` (a figure-level function with\n",
            "similar flexibility) or `histplot` (an axes-level function for histograms).\n",
            "\n",
            "For a guide to updating your code to use the new functions, please see\n",
            "https://gist.github.com/mwaskom/de44147ed2974457ad6372750bbe5751\n",
            "\n",
            "  sns.distplot(sales_vs_list)\n"
          ]
        },
        {
          "output_type": "display_data",
          "data": {
            "text/plain": [
              "<Figure size 640x480 with 1 Axes>"
            ],
            "image/png": "[encoded data removed]"
          },
          "metadata": {}
        }
      ]
    },
    {
      "cell_type": "code",
      "metadata": {
        "id": "QucYMCgSnSqC",
        "colab": {
          "base_uri": "https://localhost:8080/"
        },
        "outputId": "80c3e84b-c2e1-4452-9f6a-56c956c42755"
      },
      "source": [
        "# SOLUTION: Uncomment and execute the cell below to get help\n",
        "disp(hint + '03-pandas-14')"
      ],
      "execution_count": 45,
      "outputs": [
        {
          "output_type": "execute_result",
          "data": {
            "text/plain": [
              "sns.set_style(\"ticks\")\n",
              "sns.distplot(sales_vs_list)\n",
              "sns.despine()\n"
            ]
          },
          "metadata": {},
          "execution_count": 45
        }
      ]
    },
    {
      "cell_type": "markdown",
      "metadata": {
        "id": "HwSrwHHd7i9E"
      },
      "source": [
        "This is great, but let's make it even look nicer. You can set\n",
        "```python\n",
        "sns.set_style(\"ticks\")\n",
        "```\n",
        "to give a little extra structure to the plot. Go back to the previous plot and add that line before your plot. Note that you only need to do it once in the notebook and the style will carry for the following cells.\n",
        "\n",
        "Another \"stylish\" change you can make is to remove the top and right axes spines, which are not needed. The seaborn function `despine()` can be called to remove them. It has to be called the line after the plot:\n",
        "```python\n",
        "sns.despine()\n",
        "```\n",
        "\n",
        "To learn more about controlling figure aesthetics checkout [seaborn's documentation page](https://seaborn.pydata.org/tutorial/aesthetics.html)."
      ]
    },
    {
      "cell_type": "markdown",
      "metadata": {
        "id": "5uAdRD967i9F"
      },
      "source": [
        "Except some outliers it looks like the houses were sold within the 20% of the list price. We can checkout how many of these outliers are out there.\n",
        "\n",
        "Filtering with Series is very similar to DataFrames; you can create a conditional such as `sales_vs_list > 20` and pass it to the original Series. Let's find all the instances where the house was sold more than 20% above the list price:"
      ]
    },
    {
      "cell_type": "code",
      "metadata": {
        "id": "NBwMnXI_7i9F",
        "colab": {
          "base_uri": "https://localhost:8080/"
        },
        "outputId": "ce9d19a4-60ff-47ee-9e9d-3e980b541b60"
      },
      "source": [
        "# Your code goes here\n",
        "sales_vs_list[sales_vs_list>20]"
      ],
      "execution_count": 50,
      "outputs": [
        {
          "output_type": "execute_result",
          "data": {
            "text/plain": [
              "1028    100.000000\n",
              "1031     60.008000\n",
              "1037     36.060100\n",
              "1107     38.775510\n",
              "1468     20.772947\n",
              "2115     21.664814\n",
              "4983     35.747711\n",
              "dtype: float64"
            ]
          },
          "metadata": {},
          "execution_count": 50
        }
      ]
    },
    {
      "cell_type": "code",
      "metadata": {
        "id": "Mo2EzxybnYfb",
        "colab": {
          "base_uri": "https://localhost:8080/"
        },
        "outputId": "fadede18-c878-4ede-fde6-3b7007289cc4"
      },
      "source": [
        "# SOLUTION: Uncomment and execute the cell below to get help\n",
        "disp(hint + '03_pandas_15')"
      ],
      "execution_count": 49,
      "outputs": [
        {
          "output_type": "execute_result",
          "data": {
            "text/plain": [
              "sales_vs_list[sales_vs_list > 20]\n"
            ]
          },
          "metadata": {},
          "execution_count": 49
        }
      ]
    },
    {
      "cell_type": "markdown",
      "metadata": {
        "id": "sNgWm4sa7i9H"
      },
      "source": [
        "Okay, that long tail represent only 7 datapoints. Can you re-draw the histogram excluding the values above 20 and below -20?\n",
        "\n",
        "This time use `kde=False` to ignore the gaussian kernel density estimate, use `bins=30` to include 30 bins, and specify `color=\"green\"` for a change:"
      ]
    },
    {
      "cell_type": "code",
      "metadata": {
        "id": "MpqJvcOc7i9I",
        "colab": {
          "base_uri": "https://localhost:8080/",
          "height": 626
        },
        "outputId": "6c47b588-2057-4453-d897-2436527de6a2"
      },
      "source": [
        "# Your code goes here\n",
        "sns.distplot((sales_vs_list[(sales_vs_list<20)&(sales_vs_list>-20)]),kde=False,bins=30,color='green')\n",
        "sns.despine()"
      ],
      "execution_count": 55,
      "outputs": [
        {
          "output_type": "stream",
          "name": "stderr",
          "text": [
            "<ipython-input-55-4017cb676917>:2: UserWarning: \n",
            "\n",
            "`distplot` is a deprecated function and will be removed in seaborn v0.14.0.\n",
            "\n",
            "Please adapt your code to use either `displot` (a figure-level function with\n",
            "similar flexibility) or `histplot` (an axes-level function for histograms).\n",
            "\n",
            "For a guide to updating your code to use the new functions, please see\n",
            "https://gist.github.com/mwaskom/de44147ed2974457ad6372750bbe5751\n",
            "\n",
            "  sns.distplot((sales_vs_list[(sales_vs_list<20)&(sales_vs_list>-20)]),kde=False,bins=30,color='green')\n"
          ]
        },
        {
          "output_type": "display_data",
          "data": {
            "text/plain": [
              "<Figure size 640x480 with 1 Axes>"
            ],
            "image/png": "[encoded data removed]"
          },
          "metadata": {}
        }
      ]
    },
    {
      "cell_type": "code",
      "metadata": {
        "id": "vyYc2yxOndiV",
        "colab": {
          "base_uri": "https://localhost:8080/"
        },
        "outputId": "6c986279-547a-4c85-a731-3058f76662db"
      },
      "source": [
        "# SOLUTION: Uncomment and execute the cell below to get help\n",
        "disp(hint + '03_pandas_16')"
      ],
      "execution_count": 51,
      "outputs": [
        {
          "output_type": "execute_result",
          "data": {
            "text/plain": [
              "sns.distplot((sales_vs_list[(sales_vs_list < 20) & (sales_vs_list > -20)]), kde=False, bins=30, color=\"green\")\n",
              "sns.despine()\n"
            ]
          },
          "metadata": {},
          "execution_count": 51
        }
      ]
    },
    {
      "cell_type": "markdown",
      "metadata": {
        "id": "FZYu1OPd7i9K"
      },
      "source": [
        "Can you find how many of the houses were sold within 1% of the list price?"
      ]
    },
    {
      "cell_type": "code",
      "metadata": {
        "id": "eCBzQqj67i9L",
        "colab": {
          "base_uri": "https://localhost:8080/"
        },
        "outputId": "d92ff2aa-3c94-4dd8-8ce1-52a9fab81a4b"
      },
      "source": [
        "# Your code goes here\n",
        "len(sales_vs_list[abs(sales_vs_list)<1])"
      ],
      "execution_count": 57,
      "outputs": [
        {
          "output_type": "execute_result",
          "data": {
            "text/plain": [
              "1699"
            ]
          },
          "metadata": {},
          "execution_count": 57
        }
      ]
    },
    {
      "cell_type": "code",
      "metadata": {
        "id": "hvCVKelunhVw",
        "colab": {
          "base_uri": "https://localhost:8080/"
        },
        "outputId": "07ae0796-e6c0-407b-aa68-e2ed88ef766f"
      },
      "source": [
        "# SOLUTION: Uncomment and execute the cell below to get help\n",
        "disp(hint + '03_pandas_17')"
      ],
      "execution_count": 56,
      "outputs": [
        {
          "output_type": "execute_result",
          "data": {
            "text/plain": [
              "len(sales_vs_list[abs(sales_vs_list) < 1])\n"
            ]
          },
          "metadata": {},
          "execution_count": 56
        }
      ]
    },
    {
      "cell_type": "markdown",
      "metadata": {
        "id": "pDbDVA1j7i9N"
      },
      "source": [
        "What percentage of overall dataset does it translate to?"
      ]
    },
    {
      "cell_type": "code",
      "metadata": {
        "id": "sE1jRary7i9N",
        "colab": {
          "base_uri": "https://localhost:8080/"
        },
        "outputId": "59157430-7b19-4949-ac48-0493fdfb4c94"
      },
      "source": [
        "# Your code goes here\n",
        "len(sales_vs_list[abs(sales_vs_list)<1])/len(sales_vs_list)*100"
      ],
      "execution_count": 59,
      "outputs": [
        {
          "output_type": "execute_result",
          "data": {
            "text/plain": [
              "33.98"
            ]
          },
          "metadata": {},
          "execution_count": 59
        }
      ]
    },
    {
      "cell_type": "code",
      "metadata": {
        "id": "dv7LTtTvnlZP",
        "colab": {
          "base_uri": "https://localhost:8080/"
        },
        "outputId": "ca8bea19-0542-40a8-ee4e-da46acd16f16"
      },
      "source": [
        "# SOLUTION: Uncomment and execute the cell below to get help\n",
        "disp(hint + '03_pandas_18')"
      ],
      "execution_count": 58,
      "outputs": [
        {
          "output_type": "execute_result",
          "data": {
            "text/plain": [
              "len(sales_vs_list[abs(sales_vs_list) < 1])/len(sales_vs_list)*100\n"
            ]
          },
          "metadata": {},
          "execution_count": 58
        }
      ]
    },
    {
      "cell_type": "markdown",
      "metadata": {
        "id": "W3PX2pLc7i9Q"
      },
      "source": [
        "Now that we are a pro in plotting histograms let's go back to our `df` DataFrame and plot the histogram of `SalesClosePrice`.\n",
        "\n",
        "Note that in the plot below I have used `.set_title(\"Distribution of Closing Price\")` from `matplotlib` to assign a title. Just append that to the rest of your code. You will have to import the package: `import matplotlib.pyplot as plt`"
      ]
    },
    {
      "cell_type": "code",
      "metadata": {
        "id": "1fLqnYyD7i9Q",
        "colab": {
          "base_uri": "https://localhost:8080/",
          "height": 695
        },
        "outputId": "e7a7033f-a3c0-486e-98b6-f0ba2dec07a2"
      },
      "source": [
        "# Your code goes here\n",
        "import matplotlib.pyplot as plt\n",
        "sns.distplot(df['SalesClosePrice'],kde=False,bins=30)\n",
        "plt.xticks(rotation=20)\n",
        "plt.title('Distribution of Closing Price')\n",
        "sns.despine"
      ],
      "execution_count": 61,
      "outputs": [
        {
          "output_type": "stream",
          "name": "stderr",
          "text": [
            "<ipython-input-61-5e3a781d2dbb>:3: UserWarning: \n",
            "\n",
            "`distplot` is a deprecated function and will be removed in seaborn v0.14.0.\n",
            "\n",
            "Please adapt your code to use either `displot` (a figure-level function with\n",
            "similar flexibility) or `histplot` (an axes-level function for histograms).\n",
            "\n",
            "For a guide to updating your code to use the new functions, please see\n",
            "https://gist.github.com/mwaskom/de44147ed2974457ad6372750bbe5751\n",
            "\n",
            "  sns.distplot(df['SalesClosePrice'],kde=False,bins=30)\n"
          ]
        },
        {
          "output_type": "execute_result",
          "data": {
            "text/plain": [
              "<function seaborn.utils.despine(fig=None, ax=None, top=True, right=True, left=False, bottom=False, offset=None, trim=False)>"
            ]
          },
          "metadata": {},
          "execution_count": 61
        },
        {
          "output_type": "display_data",
          "data": {
            "text/plain": [
              "<Figure size 640x480 with 1 Axes>"
            ],
            "image/png": "[encoded data removed]"
          },
          "metadata": {}
        }
      ]
    },
    {
      "cell_type": "code",
      "metadata": {
        "id": "2LFaOSrJnpa0",
        "colab": {
          "base_uri": "https://localhost:8080/"
        },
        "outputId": "37d221cf-43f6-4ae6-e463-7bb3c78bedfa"
      },
      "source": [
        "# SOLUTION: Uncomment and execute the cell below to get help\n",
        "disp(hint + '03_pandas_19')"
      ],
      "execution_count": 60,
      "outputs": [
        {
          "output_type": "execute_result",
          "data": {
            "text/plain": [
              "import matplotlib.pyplot as plt\n",
              "sns.distplot(df['SalesClosePrice'], kde=False, bins=30)\n",
              "plt.xticks(rotation=20)\n",
              "plt.title(\"Distribution of Closing Price\")\n",
              "sns.despine()\n"
            ]
          },
          "metadata": {},
          "execution_count": 60
        }
      ]
    },
    {
      "cell_type": "markdown",
      "metadata": {
        "id": "HWFQzZS-7i9T"
      },
      "source": [
        "Note: seaborn is built on top of matplotlib. This means that we can use matplotlib's functions along with it. For instance in the above plot I have used the followings to format my graph:\n",
        "```python\n",
        "plt.xticks(rotation=20)\n",
        "plt.title(\"Distribution of Closing Price\")\n",
        "```\n",
        "\n",
        "You still need to `import matplotlib.pyplot as plt`.\n",
        "\n",
        "You can also use a violin plot to show the distribution. Violin plot is similar to a box plot, with the addition of a rotated kernel density plot on each side. We can simply use `sns.violinplot()` and pass `data` and `y` (or `x` depending on which direction you want the violin to be plotted).\n",
        "\n",
        "Draw a violin plot using `SalesClosePrice`:"
      ]
    },
    {
      "cell_type": "code",
      "metadata": {
        "id": "BFI8GSth7i9T",
        "colab": {
          "base_uri": "https://localhost:8080/",
          "height": 444
        },
        "outputId": "c7eb7c04-89fc-4815-9878-9f86ac694b5e"
      },
      "source": [
        "# Your code goes here\n",
        "sns.violinplot(y='SalesClosePrice',data=df)"
      ],
      "execution_count": 63,
      "outputs": [
        {
          "output_type": "execute_result",
          "data": {
            "text/plain": [
              "<Axes: ylabel='SalesClosePrice'>"
            ]
          },
          "metadata": {},
          "execution_count": 63
        },
        {
          "output_type": "display_data",
          "data": {
            "text/plain": [
              "<Figure size 640x480 with 1 Axes>"
            ],
            "image/png": "[encoded data removed]"
          },
          "metadata": {}
        }
      ]
    },
    {
      "cell_type": "code",
      "metadata": {
        "id": "BrsIohHQnu6A",
        "colab": {
          "base_uri": "https://localhost:8080/"
        },
        "outputId": "db2ca3a3-f596-43e6-87d4-312922e655d2"
      },
      "source": [
        "# SOLUTION: Uncomment and execute the cell below to get help\n",
        "disp(hint + '03_pandas_20')"
      ],
      "execution_count": 62,
      "outputs": [
        {
          "output_type": "execute_result",
          "data": {
            "text/plain": [
              "sns.violinplot(y=\"SalesClosePrice\", data=df)\n"
            ]
          },
          "metadata": {},
          "execution_count": 62
        }
      ]
    },
    {
      "cell_type": "markdown",
      "metadata": {
        "id": "WUkep7cG7i9X"
      },
      "source": [
        "Repeat the previous plot with the difference of adding an `x` variable, `SchoolDistrictNumber` to create a violin plot per category:"
      ]
    },
    {
      "cell_type": "code",
      "metadata": {
        "id": "DhHNotx67i9X",
        "colab": {
          "base_uri": "https://localhost:8080/",
          "height": 678
        },
        "outputId": "37abab00-7efa-4303-bb58-6a1aec4662fb"
      },
      "source": [
        "# Your code goes here\n",
        "sns.violinplot(y='SalesClosePrice',x='SchoolDistrictNumber', data=df)\n",
        "plt.xticks(rotation=90)\n",
        "plt.title(\"Distribution of Closing Price for School Districts\")\n",
        "sns.despine()"
      ],
      "execution_count": 66,
      "outputs": [
        {
          "output_type": "display_data",
          "data": {
            "text/plain": [
              "<Figure size 640x480 with 1 Axes>"
            ],
            "image/png": "[encoded data removed]"
          },
          "metadata": {}
        }
      ]
    },
    {
      "cell_type": "code",
      "metadata": {
        "id": "h9g4ZZ7anyxF",
        "colab": {
          "base_uri": "https://localhost:8080/"
        },
        "outputId": "28a937e3-6f4d-430c-dd30-10d907b486ab"
      },
      "source": [
        "# SOLUTION: Uncomment and execute the cell below to get help\n",
        "disp(hint + '03_pandas_21')"
      ],
      "execution_count": 65,
      "outputs": [
        {
          "output_type": "execute_result",
          "data": {
            "text/plain": [
              "sns.violinplot(x=\"SchoolDistrictNumber\", y=\"SalesClosePrice\", data=df)\n",
              "plt.xticks(rotation=90)\n",
              "plt.title(\"Distribution of Closing Price for School Districts\")\n",
              "sns.despine()\n"
            ]
          },
          "metadata": {},
          "execution_count": 65
        }
      ]
    },
    {
      "cell_type": "markdown",
      "metadata": {
        "id": "Id-Mie077i9c"
      },
      "source": [
        "Try this with `x=\"City\"`:"
      ]
    },
    {
      "cell_type": "code",
      "metadata": {
        "id": "6ByFrImZ7i9d",
        "colab": {
          "base_uri": "https://localhost:8080/",
          "height": 594
        },
        "outputId": "7bfc6d07-93fe-438b-d40c-415217dce982"
      },
      "source": [
        "# Your code goes here\n",
        "sns.violinplot(y='SalesClosePrice',x='City', data=df)\n",
        "plt.xticks(rotation=90)\n",
        "plt.title(\"Distribution of Closing Price for School Districts\")\n",
        "sns.despine()"
      ],
      "execution_count": 67,
      "outputs": [
        {
          "output_type": "display_data",
          "data": {
            "text/plain": [
              "<Figure size 640x480 with 1 Axes>"
            ],
            "image/png": "[encoded data removed]"
          },
          "metadata": {}
        }
      ]
    },
    {
      "cell_type": "code",
      "metadata": {
        "id": "ZiPlJ3sgn3Du",
        "colab": {
          "base_uri": "https://localhost:8080/"
        },
        "outputId": "6369905b-0c04-4413-b0b0-01d1e46e5ac1"
      },
      "source": [
        "# SOLUTION: Uncomment and execute the cell below to get help\n",
        "disp(hint + '03_pandas_22')"
      ],
      "execution_count": 68,
      "outputs": [
        {
          "output_type": "execute_result",
          "data": {
            "text/plain": [
              "sns.violinplot(x=\"City\", y=\"SalesClosePrice\", data=df)\n",
              "plt.xticks(rotation=90)\n",
              "plt.title(\"Distribution of Closing Price for Different Cities\")\n",
              "sns.despine()\n"
            ]
          },
          "metadata": {},
          "execution_count": 68
        }
      ]
    },
    {
      "cell_type": "markdown",
      "metadata": {
        "id": "yz_O7TDS9ltK"
      },
      "source": [
        "## Handling Missing Vlaues\n",
        "How many missing values are in `RoomArea1` column?"
      ]
    },
    {
      "cell_type": "code",
      "metadata": {
        "id": "gsfQLhZZ_GoD",
        "colab": {
          "base_uri": "https://localhost:8080/"
        },
        "outputId": "1ca0bb81-8a67-4daf-c15d-17c82cffa3bf"
      },
      "source": [
        "# Your code goes here\n",
        "print('There are {} missing values in RoomArea1'.format(df['RoomArea1'].isnull().sum()))"
      ],
      "execution_count": 71,
      "outputs": [
        {
          "output_type": "stream",
          "name": "stdout",
          "text": [
            "There are 457 missing values in RoomArea1\n"
          ]
        }
      ]
    },
    {
      "cell_type": "code",
      "metadata": {
        "id": "LyOEydLLn7SQ",
        "colab": {
          "base_uri": "https://localhost:8080/"
        },
        "outputId": "e92c9126-64e5-4447-a403-642d67f58b6f"
      },
      "source": [
        "# SOLUTION: Uncomment and execute the cell below to get help\n",
        "disp(hint + '03_pandas_23')"
      ],
      "execution_count": 69,
      "outputs": [
        {
          "output_type": "execute_result",
          "data": {
            "text/plain": [
              "print(\"There are {} missing values in RoomArea1\".format(df['RoomArea1'].isnull().sum()))\n"
            ]
          },
          "metadata": {},
          "execution_count": 69
        }
      ]
    },
    {
      "cell_type": "markdown",
      "metadata": {
        "id": "iMNl0P9v_l-v"
      },
      "source": [
        "Create `df2` where all the records no `RoomArea1` entry are dropped. Check with `df2.info()` to confirm:"
      ]
    },
    {
      "cell_type": "code",
      "metadata": {
        "id": "Y-a3ovik_zyn"
      },
      "source": [
        "# Your code goes here\n",
        "df2=df[df['RoomArea1'].notnull()]"
      ],
      "execution_count": 74,
      "outputs": []
    },
    {
      "cell_type": "code",
      "metadata": {
        "id": "1YAkMng6n_AN",
        "colab": {
          "base_uri": "https://localhost:8080/"
        },
        "outputId": "499a5007-0784-4ecb-cf4e-e613e4b2bfc0"
      },
      "source": [
        "# SOLUTION: Uncomment and execute the cell below to get help\n",
        "disp(hint + '03_pandas_24')"
      ],
      "execution_count": 72,
      "outputs": [
        {
          "output_type": "execute_result",
          "data": {
            "text/plain": [
              "df2 = df[df['RoomArea1'].notnull()]\n"
            ]
          },
          "metadata": {},
          "execution_count": 72
        }
      ]
    },
    {
      "cell_type": "code",
      "metadata": {
        "id": "01VV8iOB900I",
        "colab": {
          "base_uri": "https://localhost:8080/"
        },
        "outputId": "8633285b-ca36-47f7-8de3-0e7eeaf75984"
      },
      "source": [
        "df2.info()"
      ],
      "execution_count": 75,
      "outputs": [
        {
          "output_type": "stream",
          "name": "stdout",
          "text": [
            "<class 'pandas.core.frame.DataFrame'>\n",
            "Int64Index: 4543 entries, 0 to 4999\n",
            "Data columns (total 18 columns):\n",
            " #   Column                Non-Null Count  Dtype  \n",
            "---  ------                --------------  -----  \n",
            " 0   streetaddress         4543 non-null   object \n",
            " 1   STREETNAME            4543 non-null   object \n",
            " 2   PostalCode            4543 non-null   int64  \n",
            " 3   StateOrProvince       4543 non-null   object \n",
            " 4   City                  4543 non-null   object \n",
            " 5   SchoolDistrictNumber  4543 non-null   object \n",
            " 6   SalesClosePrice       4543 non-null   int64  \n",
            " 7   LISTDATE              4543 non-null   object \n",
            " 8   offmarketdate         4543 non-null   object \n",
            " 9   LISTPRICE             4543 non-null   int64  \n",
            " 10  LISTTYPE              4543 non-null   object \n",
            " 11  OriginalListPrice     4543 non-null   int64  \n",
            " 12  PricePerTSFT          4543 non-null   float64\n",
            " 13  DAYSONMARKET          4543 non-null   int64  \n",
            " 14  ROOF                  3902 non-null   object \n",
            " 15  SQFTABOVEGROUND       4543 non-null   int64  \n",
            " 16  RoomArea1             4543 non-null   object \n",
            " 17  YEARBUILT             4543 non-null   int64  \n",
            "dtypes: float64(1), int64(7), object(10)\n",
            "memory usage: 674.4+ KB\n"
          ]
        }
      ]
    },
    {
      "cell_type": "markdown",
      "metadata": {
        "id": "018XfWOfCVjo"
      },
      "source": [
        "From the code below looks like **Asphalt Shingles** is the most commonly used roof in our dataset. Use that to replace the unknown roofs we have in our dataset.\n",
        "\n",
        "WARNING: replacing NAs with another value is a common technique but has to be used with caution. For instance, the reason some of these properties don't have roofs could be because they are not buildings, in which case you might want to exclude them from your analysis, rather than keeping them and introducing values for their missing points."
      ]
    },
    {
      "cell_type": "code",
      "metadata": {
        "id": "-hGUSUI7AcfC",
        "colab": {
          "base_uri": "https://localhost:8080/"
        },
        "outputId": "25d87e21-8e38-4072-fea0-bbbcf1ec19ec"
      },
      "source": [
        "df.groupby('ROOF')['ROOF'].count().sort_values(ascending=False)"
      ],
      "execution_count": 76,
      "outputs": [
        {
          "output_type": "execute_result",
          "data": {
            "text/plain": [
              "ROOF\n",
              "Asphalt Shingles                                                1417\n",
              "Asphalt Shingles, Age 8 Years or Less                            839\n",
              "Asphalt Shingles, Age Over 8 Years                               643\n",
              "Asphalt Shingles, Pitched, Age 8 Years or Less                   362\n",
              "Asphalt Shingles, Pitched                                        292\n",
              "                                                                ... \n",
              "Flat, Other                                                        1\n",
              "Flat, Age Over 8 Years, Tile                                       1\n",
              "Asphalt Shingles, Pitched, Flat, Age 8 Years or Less, Rubber       1\n",
              "Asphalt Shingles, Pitched, Flat, Rubber                            1\n",
              "Wood Shingles                                                      1\n",
              "Name: ROOF, Length: 73, dtype: int64"
            ]
          },
          "metadata": {},
          "execution_count": 76
        }
      ]
    },
    {
      "cell_type": "code",
      "metadata": {
        "id": "AnB1ISRaAs92",
        "colab": {
          "base_uri": "https://localhost:8080/"
        },
        "outputId": "2509ca87-10e4-46be-ff5f-8bd5d9d92930"
      },
      "source": [
        "# Your code goes here\n",
        "df2[['ROOF']] = df2[['ROOF']].fillna(\"Asphalt Shingles\")"
      ],
      "execution_count": 80,
      "outputs": [
        {
          "output_type": "stream",
          "name": "stderr",
          "text": [
            "<ipython-input-80-420a11aa4a1d>:2: SettingWithCopyWarning: \n",
            "A value is trying to be set on a copy of a slice from a DataFrame.\n",
            "Try using .loc[row_indexer,col_indexer] = value instead\n",
            "\n",
            "See the caveats in the documentation: https://pandas.pydata.org/pandas-docs/stable/user_guide/indexing.html#returning-a-view-versus-a-copy\n",
            "  df2[['ROOF']] = df2[['ROOF']].fillna(\"Asphalt Shingles\")\n"
          ]
        }
      ]
    },
    {
      "cell_type": "code",
      "metadata": {
        "id": "k_vU50WcoDLI",
        "colab": {
          "base_uri": "https://localhost:8080/"
        },
        "outputId": "ef94bfc0-942d-40b2-b6c0-5a8151253641"
      },
      "source": [
        "# SOLUTION: Uncomment and execute the cell below to get help\n",
        "disp(hint + '03_pandas_25')"
      ],
      "execution_count": 77,
      "outputs": [
        {
          "output_type": "execute_result",
          "data": {
            "text/plain": [
              "df2[['ROOF']] = df2[['ROOF']].fillna(\"Asphalt Shingles\")\n"
            ]
          },
          "metadata": {},
          "execution_count": 77
        }
      ]
    },
    {
      "cell_type": "code",
      "metadata": {
        "id": "cN3v0zpkDAQA",
        "colab": {
          "base_uri": "https://localhost:8080/"
        },
        "outputId": "cbaf357b-5444-4407-e52a-000dd54455d2"
      },
      "source": [
        "df2.info()"
      ],
      "execution_count": 81,
      "outputs": [
        {
          "output_type": "stream",
          "name": "stdout",
          "text": [
            "<class 'pandas.core.frame.DataFrame'>\n",
            "Int64Index: 4543 entries, 0 to 4999\n",
            "Data columns (total 18 columns):\n",
            " #   Column                Non-Null Count  Dtype  \n",
            "---  ------                --------------  -----  \n",
            " 0   streetaddress         4543 non-null   object \n",
            " 1   STREETNAME            4543 non-null   object \n",
            " 2   PostalCode            4543 non-null   int64  \n",
            " 3   StateOrProvince       4543 non-null   object \n",
            " 4   City                  4543 non-null   object \n",
            " 5   SchoolDistrictNumber  4543 non-null   object \n",
            " 6   SalesClosePrice       4543 non-null   int64  \n",
            " 7   LISTDATE              4543 non-null   object \n",
            " 8   offmarketdate         4543 non-null   object \n",
            " 9   LISTPRICE             4543 non-null   int64  \n",
            " 10  LISTTYPE              4543 non-null   object \n",
            " 11  OriginalListPrice     4543 non-null   int64  \n",
            " 12  PricePerTSFT          4543 non-null   float64\n",
            " 13  DAYSONMARKET          4543 non-null   int64  \n",
            " 14  ROOF                  4543 non-null   object \n",
            " 15  SQFTABOVEGROUND       4543 non-null   int64  \n",
            " 16  RoomArea1             4543 non-null   object \n",
            " 17  YEARBUILT             4543 non-null   int64  \n",
            "dtypes: float64(1), int64(7), object(10)\n",
            "memory usage: 674.4+ KB\n"
          ]
        }
      ]
    }
  ]
}

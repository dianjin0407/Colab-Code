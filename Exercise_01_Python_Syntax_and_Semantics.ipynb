{
  "cells": [
    {
      "cell_type": "markdown",
      "metadata": {
        "id": "view-in-github",
        "colab_type": "text"
      },
      "source": [
        "<a href=\"https://colab.research.google.com/github/dianjin0407/Fall-2023-Coding/blob/main/Exercise_01_Python_Syntax_and_Semantics.ipynb\" target=\"_parent\"><img src=\"https://colab.research.google.com/assets/colab-badge.svg\" alt=\"Open In Colab\"/></a>"
      ]
    },
    {
      "cell_type": "markdown",
      "metadata": {
        "id": "4yc3lVflPbyE"
      },
      "source": [
        "# Exercise 1\n",
        "How can you improve the syntax used in the following code cells?\n",
        "\n",
        "Think about conventions, and code readability."
      ]
    },
    {
      "cell_type": "code",
      "execution_count": 33,
      "metadata": {
        "id": "V5KMWdOWPbyI"
      },
      "outputs": [],
      "source": [
        "x= 4+1"
      ]
    },
    {
      "cell_type": "code",
      "execution_count": 38,
      "metadata": {
        "colab": {
          "base_uri": "https://localhost:8080/"
        },
        "id": "lRSw4NjcPbyK",
        "outputId": "b0d8ccc7-28da-4598-de37-50bdad1b3cff"
      },
      "outputs": [
        {
          "output_type": "stream",
          "name": "stdout",
          "text": [
            "5\n",
            "6\n",
            "7\n"
          ]
        }
      ],
      "source": [
        "x = 4 + 1\n",
        "print(x)\n",
        "x = x + 1\n",
        "print(x)\n",
        "x += 1\n",
        "print(x)\n"
      ]
    },
    {
      "cell_type": "code",
      "execution_count": 42,
      "metadata": {
        "colab": {
          "base_uri": "https://localhost:8080/"
        },
        "id": "zcJz31KKPbyL",
        "outputId": "6b7966b2-1714-4533-fbae-1691d26fe7a7"
      },
      "outputs": [
        {
          "output_type": "stream",
          "name": "stdout",
          "text": [
            "0 is a multiple of 3!\n",
            "3 is a multiple of 3!\n",
            "6 is a multiple of 3!\n",
            "9 is a multiple of 3!\n"
          ]
        }
      ],
      "source": [
        "for i in range(10):\n",
        "    if i % 3 == 0:#checks to see if i is a multiple of 3\n",
        "        print(i, 'is a multiple of 3!')"
      ]
    },
    {
      "cell_type": "code",
      "execution_count": 43,
      "metadata": {
        "colab": {
          "base_uri": "https://localhost:8080/"
        },
        "id": "K8L1XBIaPbyL",
        "outputId": "41367cbc-03bd-407e-85d5-2f415f5ae94f"
      },
      "outputs": [
        {
          "output_type": "execute_result",
          "data": {
            "text/plain": [
              "10.0"
            ]
          },
          "metadata": {},
          "execution_count": 43
        }
      ],
      "source": [
        "(2*8)+(8/4)-9+(2*1)-1"
      ]
    },
    {
      "cell_type": "markdown",
      "metadata": {
        "id": "3YK0O5ooPbyM"
      },
      "source": [
        "# Exercise 2\n",
        "Create a variable `savings` and give it value 200"
      ]
    },
    {
      "cell_type": "code",
      "execution_count": 18,
      "metadata": {
        "id": "HuE-4cfuPbyM"
      },
      "outputs": [],
      "source": [
        "# Your answer goes here\n",
        "savings = 200"
      ]
    },
    {
      "cell_type": "markdown",
      "metadata": {
        "id": "VK27yGYnPbyN"
      },
      "source": [
        "Create a variable `factor` and assign it value 1.1"
      ]
    },
    {
      "cell_type": "code",
      "execution_count": 19,
      "metadata": {
        "id": "vIL6199MPbyN"
      },
      "outputs": [],
      "source": [
        "# Your answer goes here\n",
        "factor = 1.1"
      ]
    },
    {
      "cell_type": "markdown",
      "metadata": {
        "id": "9ck8Iu5UPbyO"
      },
      "source": [
        "Calculate `balance`:"
      ]
    },
    {
      "cell_type": "code",
      "execution_count": 20,
      "metadata": {
        "id": "e5cIOzeSPbyO"
      },
      "outputs": [],
      "source": [
        "balance = savings * factor ** 5"
      ]
    },
    {
      "cell_type": "markdown",
      "metadata": {
        "id": "pHl_b1_mPbyO"
      },
      "source": [
        "Now print a statement that says something like \"Your account balance after 5 years would be: $xxx\" and use the value of `balance` to populate xxx:"
      ]
    },
    {
      "cell_type": "code",
      "execution_count": 46,
      "metadata": {
        "colab": {
          "base_uri": "https://localhost:8080/"
        },
        "id": "xNWXFvexPbyO",
        "outputId": "17f883de-a3f5-4657-e0d9-cf459524b6b7"
      },
      "outputs": [
        {
          "output_type": "stream",
          "name": "stdout",
          "text": [
            "Your account balance after 5 years would be: $ 322.1020000000001\n"
          ]
        }
      ],
      "source": [
        "# Your answer goes here\n",
        "print('Your account balance after 5 years would be: $', balance)"
      ]
    },
    {
      "cell_type": "markdown",
      "metadata": {
        "id": "nbkYvvXKPbyO"
      },
      "source": [
        "Let's make two modifications to this:\n",
        "* use `sep = ''` in print function to avoid the extra space between dollar sign and balance value.\n",
        "* use `round()` function to round to two decimals\n",
        "\n",
        "Note: Use `?round` in a new cell to get help from the help function."
      ]
    },
    {
      "cell_type": "code",
      "execution_count": 48,
      "metadata": {
        "colab": {
          "base_uri": "https://localhost:8080/"
        },
        "id": "kH27NhTYPbyO",
        "outputId": "7c2c2e28-6dab-4531-d224-92bae35d25b9"
      },
      "outputs": [
        {
          "output_type": "stream",
          "name": "stdout",
          "text": [
            "Your account balance after 5 years would be: $322.1020000000001\n",
            "Your account balance after 5 years would be: $322.1\n"
          ]
        }
      ],
      "source": [
        "# Your answer goes here\n",
        "print('Your account balance after 5 years would be: $', balance, sep='')\n",
        "print('Your account balance after 5 years would be: $', round(balance,2), sep='')"
      ]
    },
    {
      "cell_type": "markdown",
      "metadata": {
        "id": "lMD6vaGDPbyP"
      },
      "source": [
        "# Exercise 3\n",
        "The value of pi is given below in a string/character format:"
      ]
    },
    {
      "cell_type": "code",
      "execution_count": 23,
      "metadata": {
        "colab": {
          "base_uri": "https://localhost:8080/"
        },
        "id": "G_F1F9ojPbyP",
        "outputId": "436a3be4-a48f-423a-c811-2fb39ccb1443"
      },
      "outputs": [
        {
          "output_type": "execute_result",
          "data": {
            "text/plain": [
              "str"
            ]
          },
          "metadata": {},
          "execution_count": 23
        }
      ],
      "source": [
        "pi_char = \"3.1415926535\"\n",
        "type(pi_char)"
      ]
    },
    {
      "cell_type": "markdown",
      "metadata": {
        "id": "FVZrpDhkPbyP"
      },
      "source": [
        "Google and find a function that would convert it to float so we can use it in math equations, call this new converted value `pi`"
      ]
    },
    {
      "cell_type": "code",
      "execution_count": 50,
      "metadata": {
        "colab": {
          "base_uri": "https://localhost:8080/"
        },
        "id": "bqy8iyGIPbyP",
        "outputId": "55e047dc-fcc2-48e0-8778-266ff5a2f6f4"
      },
      "outputs": [
        {
          "output_type": "stream",
          "name": "stdout",
          "text": [
            "3.1415926535\n"
          ]
        }
      ],
      "source": [
        "# Your answer goes here\n",
        "pi=float(pi_char)\n",
        "print(pi)"
      ]
    },
    {
      "cell_type": "markdown",
      "metadata": {
        "id": "lfmfoVn-PbyP"
      },
      "source": [
        "Using this variable calculate the area of a circle with radius `r = 2` and print a rounded value for area (up to 3 decimals):"
      ]
    },
    {
      "cell_type": "code",
      "execution_count": 52,
      "metadata": {
        "colab": {
          "base_uri": "https://localhost:8080/"
        },
        "id": "-YAgqCHhPbyP",
        "outputId": "5c9a0546-3b8d-41ff-eb03-cd4b83e0b219"
      },
      "outputs": [
        {
          "output_type": "stream",
          "name": "stdout",
          "text": [
            "12.566\n"
          ]
        }
      ],
      "source": [
        "# Your answer goes here\n",
        "r=2\n",
        "area= (r**2)*pi\n",
        "print(round(area,3))"
      ]
    },
    {
      "cell_type": "markdown",
      "metadata": {
        "id": "YG3n06w9PbyP"
      },
      "source": [
        "# Exercise 4\n",
        "What is the quotient and remainder of 67432/98?"
      ]
    },
    {
      "cell_type": "code",
      "execution_count": 53,
      "metadata": {
        "colab": {
          "base_uri": "https://localhost:8080/"
        },
        "id": "AxXIUi63PbyP",
        "outputId": "c23c13e4-eeca-4573-ad44-486b92748845"
      },
      "outputs": [
        {
          "output_type": "stream",
          "name": "stdout",
          "text": [
            "688\n",
            "8\n"
          ]
        }
      ],
      "source": [
        "# Your answer goes here\n",
        "print(67432//98)\n",
        "print(67432%98)"
      ]
    },
    {
      "cell_type": "markdown",
      "metadata": {
        "id": "1q3wG1ioPbyQ"
      },
      "source": [
        "# Exercise 5\n",
        "Write a statement to check whether `a` is a multiple of 5 and within the range of 100-150 or 0-50. Check your statement with the following values and it should give you the following values:\n",
        "\n",
        "55 --> False\n",
        "\n",
        "110 --> True\n",
        "\n",
        "-25 --> False\n",
        "\n",
        "150 --> False\n",
        "\n",
        "100 --> True"
      ]
    },
    {
      "cell_type": "code",
      "execution_count": 61,
      "metadata": {
        "colab": {
          "base_uri": "https://localhost:8080/"
        },
        "id": "KSpqJGUfPbyQ",
        "outputId": "dabd1970-6bfa-4922-cac5-63c3c545c1d7"
      },
      "outputs": [
        {
          "output_type": "stream",
          "name": "stdout",
          "text": [
            "False\n",
            "True\n",
            "False\n",
            "False\n",
            "True\n"
          ]
        }
      ],
      "source": [
        "# Your answer goes here\n",
        "a=[55,110,-25,150,100]\n",
        "\n",
        "for num in a:\n",
        "    if (num%5==0) and ((100<=num<150) or (0<=num<=50)):\n",
        "        print(True)\n",
        "    else:\n",
        "        print(False)\n"
      ]
    }
  ],
  "metadata": {
    "kernelspec": {
      "display_name": "Python 3",
      "language": "python",
      "name": "python3"
    },
    "language_info": {
      "codemirror_mode": {
        "name": "ipython",
        "version": 3
      },
      "file_extension": ".py",
      "mimetype": "text/x-python",
      "name": "python",
      "nbconvert_exporter": "python",
      "pygments_lexer": "ipython3",
      "version": "3.7.2"
    },
    "colab": {
      "provenance": [],
      "include_colab_link": true
    }
  },
  "nbformat": 4,
  "nbformat_minor": 0
}
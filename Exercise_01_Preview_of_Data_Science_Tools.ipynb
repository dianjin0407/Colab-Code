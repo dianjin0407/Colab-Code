{
  "cells": [
    {
      "cell_type": "markdown",
      "metadata": {
        "id": "view-in-github",
        "colab_type": "text"
      },
      "source": [
        "<a href=\"https://colab.research.google.com/github/dianjin0407/Fall-2023-Coding/blob/main/Exercise_01_Preview_of_Data_Science_Tools.ipynb\" target=\"_parent\"><img src=\"https://colab.research.google.com/assets/colab-badge.svg\" alt=\"Open In Colab\"/></a>"
      ]
    },
    {
      "cell_type": "markdown",
      "metadata": {
        "id": "4zu0fp9J1eOI"
      },
      "source": [
        "# Exercise - A Preview of Data Science Tools\n",
        "In the following cell two lists of weight (in lbs) and height (in inches) of 6 basketball players are given:"
      ]
    },
    {
      "cell_type": "code",
      "execution_count": 1,
      "metadata": {
        "id": "dqVsfJQ01eOJ"
      },
      "outputs": [],
      "source": [
        "height_in = [73, 74, 71, 75, 74, 72, 70, 71, 68, 69, 72, 71]\n",
        "weight_lb = [170 , 215, 210 , 204, 189, 195, 190, 194, 200, 178, 199, 202]"
      ]
    },
    {
      "cell_type": "markdown",
      "metadata": {
        "id": "mOmQU-K91eOK"
      },
      "source": [
        "Import the numpy package as np"
      ]
    },
    {
      "cell_type": "code",
      "execution_count": 2,
      "metadata": {
        "id": "fUfasBGK1eOK"
      },
      "outputs": [],
      "source": [
        "# Your answer goes here\n",
        "import numpy as np"
      ]
    },
    {
      "cell_type": "markdown",
      "metadata": {
        "id": "2z_vRpZ01eOL"
      },
      "source": [
        "Create 2 numpy arrays, `np_height_in` & `np_weight_lb`, from height and weight. Hint: one can make a numpy array from a python list, L, by `np.array(L)`."
      ]
    },
    {
      "cell_type": "code",
      "execution_count": 7,
      "metadata": {
        "colab": {
          "base_uri": "https://localhost:8080/"
        },
        "id": "z5XvVWLH1eOL",
        "outputId": "9264d5a4-9ac7-4e52-a131-ae1a3d9b1be9"
      },
      "outputs": [
        {
          "output_type": "stream",
          "name": "stdout",
          "text": [
            "[73 74 71 75 74 72 70 71 68 69 72 71]\n",
            "[170 215 210 204 189 195 190 194 200 178 199 202]\n"
          ]
        }
      ],
      "source": [
        "# Your answer goes here\n",
        "np_height_in=np.array(height_in)\n",
        "np_weight_lb=np.array(weight_lb)\n",
        "\n",
        "print(np_height_in)\n",
        "print(np_weight_lb)"
      ]
    },
    {
      "cell_type": "markdown",
      "metadata": {
        "id": "Ge8ejbdA1eOL"
      },
      "source": [
        "Checkout the type of np_weight_lb:"
      ]
    },
    {
      "cell_type": "code",
      "execution_count": 5,
      "metadata": {
        "colab": {
          "base_uri": "https://localhost:8080/"
        },
        "id": "5OIMiQTv1eOL",
        "outputId": "64135135-3724-471c-bf68-4fe92ac1d709"
      },
      "outputs": [
        {
          "output_type": "execute_result",
          "data": {
            "text/plain": [
              "numpy.ndarray"
            ]
          },
          "metadata": {},
          "execution_count": 5
        }
      ],
      "source": [
        "# Your answer goes here\n",
        "type(np_weight_lb)"
      ]
    },
    {
      "cell_type": "markdown",
      "metadata": {
        "id": "yZbB6nKb1eOM"
      },
      "source": [
        "This is how `np_weight_lb` will look like after the conversion:"
      ]
    },
    {
      "cell_type": "code",
      "execution_count": 6,
      "metadata": {
        "colab": {
          "base_uri": "https://localhost:8080/"
        },
        "id": "EEf7NW0Y1eOM",
        "outputId": "95f16132-b6e1-4d12-e600-40f1d141a8ad"
      },
      "outputs": [
        {
          "output_type": "execute_result",
          "data": {
            "text/plain": [
              "array([170, 215, 210, 204, 189, 195, 190, 194, 200, 178, 199, 202])"
            ]
          },
          "metadata": {},
          "execution_count": 6
        }
      ],
      "source": [
        "np_weight_lb"
      ]
    },
    {
      "cell_type": "markdown",
      "metadata": {
        "id": "OcHL0ZCx1eOM"
      },
      "source": [
        "Convert `np_height_in` to meters and call it `np_height_m`, then print it. Hint: Use the formula $height(m) = height(in) * 2.54\\  /\\  100$."
      ]
    },
    {
      "cell_type": "code",
      "execution_count": 12,
      "metadata": {
        "colab": {
          "base_uri": "https://localhost:8080/"
        },
        "id": "SxRhPb6L1eOM",
        "outputId": "816672c6-9386-4316-c74a-7de5c2cad58a"
      },
      "outputs": [
        {
          "output_type": "execute_result",
          "data": {
            "text/plain": [
              "array([1.8542, 1.8796, 1.8034, 1.905 , 1.8796, 1.8288, 1.778 , 1.8034,\n",
              "       1.7272, 1.7526, 1.8288, 1.8034])"
            ]
          },
          "metadata": {},
          "execution_count": 12
        }
      ],
      "source": [
        "# Your answer goes here\n",
        "np_height_m=np_height_in*2.54/100\n",
        "np_height_m"
      ]
    },
    {
      "cell_type": "markdown",
      "metadata": {
        "id": "3TboF7Ce1eOM"
      },
      "source": [
        "Convert `np_weight_lb` to Kgs and call it `np_weight_kg`, then print it. Hint: Use the formula $weight(kg) = weight(lb) \\ /\\  2.2$."
      ]
    },
    {
      "cell_type": "code",
      "execution_count": 13,
      "metadata": {
        "colab": {
          "base_uri": "https://localhost:8080/"
        },
        "id": "mJUhxbkF1eON",
        "outputId": "1a0c8866-2f75-4b53-e4d8-5d72f31e1120"
      },
      "outputs": [
        {
          "output_type": "execute_result",
          "data": {
            "text/plain": [
              "array([77.27272727, 97.72727273, 95.45454545, 92.72727273, 85.90909091,\n",
              "       88.63636364, 86.36363636, 88.18181818, 90.90909091, 80.90909091,\n",
              "       90.45454545, 91.81818182])"
            ]
          },
          "metadata": {},
          "execution_count": 13
        }
      ],
      "source": [
        "# Your answer goes here\n",
        "np_weight_kg=np_weight_lb/2.2\n",
        "np_weight_kg"
      ]
    },
    {
      "cell_type": "markdown",
      "metadata": {
        "id": "bTZaR7bO1eON"
      },
      "source": [
        "Using `np_weight_kg` and `np_height_m` create a simple scatter plot.\n",
        "Hint: to do this you have several options, here are two of them: 1) use `plt.plot(x, y, 'o')`. The option 'o' here creates a scatter plot with circles; checkout help `plt.plot?` to find out about other symbols. 2) use `plt.scatter(x, y)` function."
      ]
    },
    {
      "cell_type": "code",
      "execution_count": 16,
      "metadata": {
        "colab": {
          "base_uri": "https://localhost:8080/",
          "height": 430
        },
        "id": "AIgU0MA41eON",
        "outputId": "8592e574-7c11-49fa-8d9e-af29062fd487"
      },
      "outputs": [
        {
          "output_type": "display_data",
          "data": {
            "text/plain": [
              "<Figure size 640x480 with 1 Axes>"
            ],
            "image/png": "[encoded data removed]"
          },
          "metadata": {}
        }
      ],
      "source": [
        "# Your answer goes here\n",
        "import matplotlib.pyplot as plt\n",
        "plt.scatter(np_weight_kg, np_height_m, marker='o')\n",
        "\n",
        "plt.show()"
      ]
    },
    {
      "cell_type": "markdown",
      "metadata": {
        "id": "jF6BR_Mq1eON"
      },
      "source": [
        "Now try to use the second option. But this time also use `plt.xlabel(\"X-label\")` & ``plt.ylabel(\"Y-label\")`` to give the axis appropriate names:"
      ]
    },
    {
      "cell_type": "code",
      "execution_count": 18,
      "metadata": {
        "colab": {
          "base_uri": "https://localhost:8080/",
          "height": 449
        },
        "id": "sBLKN_TO1eON",
        "outputId": "3d8f0879-95be-426d-c759-c3141fd3e595"
      },
      "outputs": [
        {
          "output_type": "display_data",
          "data": {
            "text/plain": [
              "<Figure size 640x480 with 1 Axes>"
            ],
            "image/png": "[encoded data removed]"
          },
          "metadata": {}
        }
      ],
      "source": [
        "# Your answer goes here\n",
        "import matplotlib.pyplot as plt\n",
        "plt.scatter(np_weight_kg, np_height_m, marker='o')\n",
        "\n",
        "plt.xlabel('Weight(kg)')\n",
        "plt.ylabel('Height(m)')\n",
        "\n",
        "plt.show()"
      ]
    },
    {
      "cell_type": "markdown",
      "metadata": {
        "id": "ddedxbA61eON"
      },
      "source": [
        "Calculate bmi and call it `bmi`, round it to 2 digits and print it. Hint: $bmi = weight(kg)\\  /\\  height ^ 2(m)$."
      ]
    },
    {
      "cell_type": "code",
      "execution_count": 26,
      "metadata": {
        "colab": {
          "base_uri": "https://localhost:8080/"
        },
        "id": "pQ66Qygg1eON",
        "outputId": "6ee81cfe-2163-4d1a-f591-ea1b5f5d79d7"
      },
      "outputs": [
        {
          "output_type": "execute_result",
          "data": {
            "text/plain": [
              "[22.0, 28.0, 29.0, 26.0, 24.0, 27.0, 27.0, 27.0, 30.0, 26.0, 27.0, 28.0]"
            ]
          },
          "metadata": {},
          "execution_count": 26
        }
      ],
      "source": [
        "# Your answer goes here\n",
        "bmi=np_weight_kg/(np_height_m**2)\n",
        "list(bmi.round(0))\n"
      ]
    },
    {
      "cell_type": "markdown",
      "metadata": {
        "id": "-JNYM_oo1eOO"
      },
      "source": [
        "Checkout the type of `bmi`:"
      ]
    },
    {
      "cell_type": "code",
      "execution_count": 27,
      "metadata": {
        "colab": {
          "base_uri": "https://localhost:8080/"
        },
        "id": "kfJAeRld1eOO",
        "outputId": "1ddcd47b-8e99-40fc-b4f5-32afbfcc916f"
      },
      "outputs": [
        {
          "output_type": "execute_result",
          "data": {
            "text/plain": [
              "numpy.ndarray"
            ]
          },
          "metadata": {},
          "execution_count": 27
        }
      ],
      "source": [
        "# Your answer goes here\n",
        "type(bmi)"
      ]
    },
    {
      "cell_type": "markdown",
      "metadata": {
        "id": "Kj2efP0_1eOO"
      },
      "source": [
        "Create a Pandas dafaframe from np_weight_kg, np_height_m, bmi with the column names `weight`, `height`, `bmi`. Call this dataframe `players`:"
      ]
    },
    {
      "cell_type": "code",
      "execution_count": 32,
      "metadata": {
        "colab": {
          "base_uri": "https://localhost:8080/",
          "height": 425
        },
        "id": "6WZL3__p1eOO",
        "outputId": "9dfcf421-e5c4-4dc2-8465-dfbd1b73fce8"
      },
      "outputs": [
        {
          "output_type": "execute_result",
          "data": {
            "text/plain": [
              "       weight  height        bmi\n",
              "0   77.272727  1.8542  22.475693\n",
              "1   97.727273  1.8796  27.662085\n",
              "2   95.454545  1.8034  29.350296\n",
              "3   92.727273  1.9050  25.551566\n",
              "4   85.909091  1.8796  24.316902\n",
              "5   88.636364  1.8288  26.502052\n",
              "6   86.363636  1.7780  27.319164\n",
              "7   88.181818  1.8034  27.114083\n",
              "8   90.909091  1.7272  30.473480\n",
              "9   80.909091  1.7526  26.340967\n",
              "10  90.454545  1.8288  27.045684\n",
              "11  91.818182  1.8034  28.232189"
            ],
            "text/html": [
              "\n",
              "  <div id=\"df-984d8c84-6970-4754-8e22-0171a7f80139\" class=\"colab-df-container\">\n",
              "    <div>\n",
              "<style scoped>\n",
              "    .dataframe tbody tr th:only-of-type {\n",
              "        vertical-align: middle;\n",
              "    }\n",
              "\n",
              "    .dataframe tbody tr th {\n",
              "        vertical-align: top;\n",
              "    }\n",
              "\n",
              "    .dataframe thead th {\n",
              "        text-align: right;\n",
              "    }\n",
              "</style>\n",
              "<table border=\"1\" class=\"dataframe\">\n",
              "  <thead>\n",
              "    <tr style=\"text-align: right;\">\n",
              "      <th></th>\n",
              "      <th>weight</th>\n",
              "      <th>height</th>\n",
              "      <th>bmi</th>\n",
              "    </tr>\n",
              "  </thead>\n",
              "  <tbody>\n",
              "    <tr>\n",
              "      <th>0</th>\n",
              "      <td>77.272727</td>\n",
              "      <td>1.8542</td>\n",
              "      <td>22.475693</td>\n",
              "    </tr>\n",
              "    <tr>\n",
              "      <th>1</th>\n",
              "      <td>97.727273</td>\n",
              "      <td>1.8796</td>\n",
              "      <td>27.662085</td>\n",
              "    </tr>\n",
              "    <tr>\n",
              "      <th>2</th>\n",
              "      <td>95.454545</td>\n",
              "      <td>1.8034</td>\n",
              "      <td>29.350296</td>\n",
              "    </tr>\n",
              "    <tr>\n",
              "      <th>3</th>\n",
              "      <td>92.727273</td>\n",
              "      <td>1.9050</td>\n",
              "      <td>25.551566</td>\n",
              "    </tr>\n",
              "    <tr>\n",
              "      <th>4</th>\n",
              "      <td>85.909091</td>\n",
              "      <td>1.8796</td>\n",
              "      <td>24.316902</td>\n",
              "    </tr>\n",
              "    <tr>\n",
              "      <th>5</th>\n",
              "      <td>88.636364</td>\n",
              "      <td>1.8288</td>\n",
              "      <td>26.502052</td>\n",
              "    </tr>\n",
              "    <tr>\n",
              "      <th>6</th>\n",
              "      <td>86.363636</td>\n",
              "      <td>1.7780</td>\n",
              "      <td>27.319164</td>\n",
              "    </tr>\n",
              "    <tr>\n",
              "      <th>7</th>\n",
              "      <td>88.181818</td>\n",
              "      <td>1.8034</td>\n",
              "      <td>27.114083</td>\n",
              "    </tr>\n",
              "    <tr>\n",
              "      <th>8</th>\n",
              "      <td>90.909091</td>\n",
              "      <td>1.7272</td>\n",
              "      <td>30.473480</td>\n",
              "    </tr>\n",
              "    <tr>\n",
              "      <th>9</th>\n",
              "      <td>80.909091</td>\n",
              "      <td>1.7526</td>\n",
              "      <td>26.340967</td>\n",
              "    </tr>\n",
              "    <tr>\n",
              "      <th>10</th>\n",
              "      <td>90.454545</td>\n",
              "      <td>1.8288</td>\n",
              "      <td>27.045684</td>\n",
              "    </tr>\n",
              "    <tr>\n",
              "      <th>11</th>\n",
              "      <td>91.818182</td>\n",
              "      <td>1.8034</td>\n",
              "      <td>28.232189</td>\n",
              "    </tr>\n",
              "  </tbody>\n",
              "</table>\n",
              "</div>\n",
              "    <div class=\"colab-df-buttons\">\n",
              "\n",
              "  <div class=\"colab-df-container\">\n",
              "    <button class=\"colab-df-convert\" onclick=\"convertToInteractive('df-984d8c84-6970-4754-8e22-0171a7f80139')\"\n",
              "            title=\"Convert this dataframe to an interactive table.\"\n",
              "            style=\"display:none;\">\n",
              "\n",
              "  <svg xmlns=\"http://www.w3.org/2000/svg\" height=\"24px\" viewBox=\"0 -960 960 960\">\n",
              "    <path d=\"M120-120v-720h720v720H120Zm60-500h600v-160H180v160Zm220 220h160v-160H400v160Zm0 220h160v-160H400v160ZM180-400h160v-160H180v160Zm440 0h160v-160H620v160ZM180-180h160v-160H180v160Zm440 0h160v-160H620v160Z\"/>\n",
              "  </svg>\n",
              "    </button>\n",
              "\n",
              "  <style>\n",
              "    .colab-df-container {\n",
              "      display:flex;\n",
              "      gap: 12px;\n",
              "    }\n",
              "\n",
              "    .colab-df-convert {\n",
              "      background-color: #E8F0FE;\n",
              "      border: none;\n",
              "      border-radius: 50%;\n",
              "      cursor: pointer;\n",
              "      display: none;\n",
              "      fill: #1967D2;\n",
              "      height: 32px;\n",
              "      padding: 0 0 0 0;\n",
              "      width: 32px;\n",
              "    }\n",
              "\n",
              "    .colab-df-convert:hover {\n",
              "      background-color: #E2EBFA;\n",
              "      box-shadow: 0px 1px 2px rgba(60, 64, 67, 0.3), 0px 1px 3px 1px rgba(60, 64, 67, 0.15);\n",
              "      fill: #174EA6;\n",
              "    }\n",
              "\n",
              "    .colab-df-buttons div {\n",
              "      margin-bottom: 4px;\n",
              "    }\n",
              "\n",
              "    [theme=dark] .colab-df-convert {\n",
              "      background-color: #3B4455;\n",
              "      fill: #D2E3FC;\n",
              "    }\n",
              "\n",
              "    [theme=dark] .colab-df-convert:hover {\n",
              "      background-color: #434B5C;\n",
              "      box-shadow: 0px 1px 3px 1px rgba(0, 0, 0, 0.15);\n",
              "      filter: drop-shadow(0px 1px 2px rgba(0, 0, 0, 0.3));\n",
              "      fill: #FFFFFF;\n",
              "    }\n",
              "  </style>\n",
              "\n",
              "    <script>\n",
              "      const buttonEl =\n",
              "        document.querySelector('#df-984d8c84-6970-4754-8e22-0171a7f80139 button.colab-df-convert');\n",
              "      buttonEl.style.display =\n",
              "        google.colab.kernel.accessAllowed ? 'block' : 'none';\n",
              "\n",
              "      async function convertToInteractive(key) {\n",
              "        const element = document.querySelector('#df-984d8c84-6970-4754-8e22-0171a7f80139');\n",
              "        const dataTable =\n",
              "          await google.colab.kernel.invokeFunction('convertToInteractive',\n",
              "                                                    [key], {});\n",
              "        if (!dataTable) return;\n",
              "\n",
              "        const docLinkHtml = 'Like what you see? Visit the ' +\n",
              "          '<a target=\"_blank\" href=https://colab.research.google.com/notebooks/data_table.ipynb>data table notebook</a>'\n",
              "          + ' to learn more about interactive tables.';\n",
              "        element.innerHTML = '';\n",
              "        dataTable['output_type'] = 'display_data';\n",
              "        await google.colab.output.renderOutput(dataTable, element);\n",
              "        const docLink = document.createElement('div');\n",
              "        docLink.innerHTML = docLinkHtml;\n",
              "        element.appendChild(docLink);\n",
              "      }\n",
              "    </script>\n",
              "  </div>\n",
              "\n",
              "\n",
              "<div id=\"df-e3f192e4-ee45-4d61-bada-df4291645fcc\">\n",
              "  <button class=\"colab-df-quickchart\" onclick=\"quickchart('df-e3f192e4-ee45-4d61-bada-df4291645fcc')\"\n",
              "            title=\"Suggest charts.\"\n",
              "            style=\"display:none;\">\n",
              "\n",
              "<svg xmlns=\"http://www.w3.org/2000/svg\" height=\"24px\"viewBox=\"0 0 24 24\"\n",
              "     width=\"24px\">\n",
              "    <g>\n",
              "        <path d=\"M19 3H5c-1.1 0-2 .9-2 2v14c0 1.1.9 2 2 2h14c1.1 0 2-.9 2-2V5c0-1.1-.9-2-2-2zM9 17H7v-7h2v7zm4 0h-2V7h2v10zm4 0h-2v-4h2v4z\"/>\n",
              "    </g>\n",
              "</svg>\n",
              "  </button>\n",
              "\n",
              "<style>\n",
              "  .colab-df-quickchart {\n",
              "      --bg-color: #E8F0FE;\n",
              "      --fill-color: #1967D2;\n",
              "      --hover-bg-color: #E2EBFA;\n",
              "      --hover-fill-color: #174EA6;\n",
              "      --disabled-fill-color: #AAA;\n",
              "      --disabled-bg-color: #DDD;\n",
              "  }\n",
              "\n",
              "  [theme=dark] .colab-df-quickchart {\n",
              "      --bg-color: #3B4455;\n",
              "      --fill-color: #D2E3FC;\n",
              "      --hover-bg-color: #434B5C;\n",
              "      --hover-fill-color: #FFFFFF;\n",
              "      --disabled-bg-color: #3B4455;\n",
              "      --disabled-fill-color: #666;\n",
              "  }\n",
              "\n",
              "  .colab-df-quickchart {\n",
              "    background-color: var(--bg-color);\n",
              "    border: none;\n",
              "    border-radius: 50%;\n",
              "    cursor: pointer;\n",
              "    display: none;\n",
              "    fill: var(--fill-color);\n",
              "    height: 32px;\n",
              "    padding: 0;\n",
              "    width: 32px;\n",
              "  }\n",
              "\n",
              "  .colab-df-quickchart:hover {\n",
              "    background-color: var(--hover-bg-color);\n",
              "    box-shadow: 0 1px 2px rgba(60, 64, 67, 0.3), 0 1px 3px 1px rgba(60, 64, 67, 0.15);\n",
              "    fill: var(--button-hover-fill-color);\n",
              "  }\n",
              "\n",
              "  .colab-df-quickchart-complete:disabled,\n",
              "  .colab-df-quickchart-complete:disabled:hover {\n",
              "    background-color: var(--disabled-bg-color);\n",
              "    fill: var(--disabled-fill-color);\n",
              "    box-shadow: none;\n",
              "  }\n",
              "\n",
              "  .colab-df-spinner {\n",
              "    border: 2px solid var(--fill-color);\n",
              "    border-color: transparent;\n",
              "    border-bottom-color: var(--fill-color);\n",
              "    animation:\n",
              "      spin 1s steps(1) infinite;\n",
              "  }\n",
              "\n",
              "  @keyframes spin {\n",
              "    0% {\n",
              "      border-color: transparent;\n",
              "      border-bottom-color: var(--fill-color);\n",
              "      border-left-color: var(--fill-color);\n",
              "    }\n",
              "    20% {\n",
              "      border-color: transparent;\n",
              "      border-left-color: var(--fill-color);\n",
              "      border-top-color: var(--fill-color);\n",
              "    }\n",
              "    30% {\n",
              "      border-color: transparent;\n",
              "      border-left-color: var(--fill-color);\n",
              "      border-top-color: var(--fill-color);\n",
              "      border-right-color: var(--fill-color);\n",
              "    }\n",
              "    40% {\n",
              "      border-color: transparent;\n",
              "      border-right-color: var(--fill-color);\n",
              "      border-top-color: var(--fill-color);\n",
              "    }\n",
              "    60% {\n",
              "      border-color: transparent;\n",
              "      border-right-color: var(--fill-color);\n",
              "    }\n",
              "    80% {\n",
              "      border-color: transparent;\n",
              "      border-right-color: var(--fill-color);\n",
              "      border-bottom-color: var(--fill-color);\n",
              "    }\n",
              "    90% {\n",
              "      border-color: transparent;\n",
              "      border-bottom-color: var(--fill-color);\n",
              "    }\n",
              "  }\n",
              "</style>\n",
              "\n",
              "  <script>\n",
              "    async function quickchart(key) {\n",
              "      const quickchartButtonEl =\n",
              "        document.querySelector('#' + key + ' button');\n",
              "      quickchartButtonEl.disabled = true;  // To prevent multiple clicks.\n",
              "      quickchartButtonEl.classList.add('colab-df-spinner');\n",
              "      try {\n",
              "        const charts = await google.colab.kernel.invokeFunction(\n",
              "            'suggestCharts', [key], {});\n",
              "      } catch (error) {\n",
              "        console.error('Error during call to suggestCharts:', error);\n",
              "      }\n",
              "      quickchartButtonEl.classList.remove('colab-df-spinner');\n",
              "      quickchartButtonEl.classList.add('colab-df-quickchart-complete');\n",
              "    }\n",
              "    (() => {\n",
              "      let quickchartButtonEl =\n",
              "        document.querySelector('#df-e3f192e4-ee45-4d61-bada-df4291645fcc button');\n",
              "      quickchartButtonEl.style.display =\n",
              "        google.colab.kernel.accessAllowed ? 'block' : 'none';\n",
              "    })();\n",
              "  </script>\n",
              "</div>\n",
              "    </div>\n",
              "  </div>\n"
            ]
          },
          "metadata": {},
          "execution_count": 32
        }
      ],
      "source": [
        "# Your answer goes here\n",
        "import pandas as pd\n",
        "players=pd.DataFrame({'weight':np_weight_kg,'height':np_height_m,'bmi':bmi})\n",
        "\n",
        "players"
      ]
    },
    {
      "cell_type": "markdown",
      "metadata": {
        "id": "jMjmnWNM1eOO"
      },
      "source": [
        "See if you can reproduce the above plot by using DataFrame method `.plot.scatter()` on `players` DataFrame:"
      ]
    },
    {
      "cell_type": "code",
      "execution_count": 34,
      "metadata": {
        "colab": {
          "base_uri": "https://localhost:8080/",
          "height": 449
        },
        "id": "eSLqg1Xy1eOO",
        "outputId": "5bca3067-3618-4c94-a93a-711d6e63eab1"
      },
      "outputs": [
        {
          "output_type": "display_data",
          "data": {
            "text/plain": [
              "<Figure size 640x480 with 1 Axes>"
            ],
            "image/png": "[encoded data removed]"
          },
          "metadata": {}
        }
      ],
      "source": [
        "# Your answer goes here\n",
        "players.plot.scatter('weight','height',marker='o')\n",
        "\n",
        "plt.xlabel('weight')\n",
        "plt.ylabel('height')\n",
        "\n",
        "plt.show()"
      ]
    },
    {
      "cell_type": "markdown",
      "metadata": {
        "id": "G-kZkT0y1eOO"
      },
      "source": [
        "Now with ggplot style:"
      ]
    },
    {
      "cell_type": "code",
      "execution_count": 36,
      "metadata": {
        "scrolled": false,
        "colab": {
          "base_uri": "https://localhost:8080/",
          "height": 453
        },
        "id": "nMSihfCS1eOO",
        "outputId": "8d0744a0-cd53-4896-c2e2-348dee285d4a"
      },
      "outputs": [
        {
          "output_type": "display_data",
          "data": {
            "text/plain": [
              "<Figure size 640x480 with 1 Axes>"
            ],
            "image/png": "[encoded data removed]"
          },
          "metadata": {}
        }
      ],
      "source": [
        "# Your answer goes here\n",
        "plt.style.use('ggplot')\n",
        "\n",
        "players.plot.scatter('weight','height',marker='o')\n",
        "\n",
        "plt.xlabel('weight')\n",
        "plt.ylabel('height')\n",
        "\n",
        "plt.show()"
      ]
    }
  ],
  "metadata": {
    "kernelspec": {
      "display_name": "Python 3",
      "language": "python",
      "name": "python3"
    },
    "language_info": {
      "codemirror_mode": {
        "name": "ipython",
        "version": 3
      },
      "file_extension": ".py",
      "mimetype": "text/x-python",
      "name": "python",
      "nbconvert_exporter": "python",
      "pygments_lexer": "ipython3",
      "version": "3.7.2"
    },
    "colab": {
      "provenance": [],
      "include_colab_link": true
    }
  },
  "nbformat": 4,
  "nbformat_minor": 0
}